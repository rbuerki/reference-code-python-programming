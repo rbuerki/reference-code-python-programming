{
 "cells": [
  {
   "cell_type": "markdown",
   "metadata": {
    "toc": true
   },
   "source": [
    "<h1>Contents<span class=\"tocSkip\"></span></h1>\n",
    "<div class=\"toc\"><ul class=\"toc-item\"><li><span><a href=\"#Decorator-Basics\" data-toc-modified-id=\"Decorator-Basics-1\"><span class=\"toc-item-num\">1&nbsp;&nbsp;</span>Decorator Basics</a></span><ul class=\"toc-item\"><li><span><a href=\"#Syntax-variants\" data-toc-modified-id=\"Syntax-variants-1.1\"><span class=\"toc-item-num\">1.1&nbsp;&nbsp;</span>Syntax variants</a></span></li><li><span><a href=\"#Support-Input-Arguments-for-Decorated-Function\" data-toc-modified-id=\"Support-Input-Arguments-for-Decorated-Function-1.2\"><span class=\"toc-item-num\">1.2&nbsp;&nbsp;</span>Support Input Arguments for Decorated Function</a></span></li><li><span><a href=\"#Handle-Returns-of-The-Decorated-Functions\" data-toc-modified-id=\"Handle-Returns-of-The-Decorated-Functions-1.3\"><span class=\"toc-item-num\">1.3&nbsp;&nbsp;</span>Handle Returns of The Decorated Functions</a></span></li><li><span><a href=\"#Wrap-the-Decorated-Function-to-Preserve-Metadata\" data-toc-modified-id=\"Wrap-the-Decorated-Function-to-Preserve-Metadata-1.4\"><span class=\"toc-item-num\">1.4&nbsp;&nbsp;</span>Wrap the Decorated Function to Preserve Metadata</a></span></li><li><span><a href=\"#Define-Decorators-With-Arguments\" data-toc-modified-id=\"Define-Decorators-With-Arguments-1.5\"><span class=\"toc-item-num\">1.5&nbsp;&nbsp;</span>Define Decorators With Arguments</a></span></li><li><span><a href=\"#Class-based-Decorators\" data-toc-modified-id=\"Class-based-Decorators-1.6\"><span class=\"toc-item-num\">1.6&nbsp;&nbsp;</span>Class-based Decorators</a></span></li></ul></li><li><span><a href=\"#Logging-Decorator\" data-toc-modified-id=\"Logging-Decorator-2\"><span class=\"toc-item-num\">2&nbsp;&nbsp;</span>Logging Decorator</a></span></li><li><span><a href=\"#Retry-Decorator\" data-toc-modified-id=\"Retry-Decorator-3\"><span class=\"toc-item-num\">3&nbsp;&nbsp;</span>Retry Decorator</a></span></li></ul></div>"
   ]
  },
  {
   "cell_type": "code",
   "execution_count": 8,
   "metadata": {
    "ExecuteTime": {
     "end_time": "2020-10-11T20:06:47.750522Z",
     "start_time": "2020-10-11T20:06:47.746520Z"
    }
   },
   "outputs": [],
   "source": [
    "import sys\n",
    "import time"
   ]
  },
  {
   "cell_type": "code",
   "execution_count": 9,
   "metadata": {
    "ExecuteTime": {
     "end_time": "2020-10-11T20:06:48.112703Z",
     "start_time": "2020-10-11T20:06:48.105707Z"
    }
   },
   "outputs": [
    {
     "name": "stdout",
     "output_type": "stream",
     "text": [
      "C:\\Users\\r2d4\\miniconda3\\envs\\py3\\python.exe\n",
      "3.8.3 (default, May 19 2020, 06:50:17) [MSC v.1916 64 bit (AMD64)]\n"
     ]
    }
   ],
   "source": [
    "print(sys.executable)\n",
    "print(sys.version)"
   ]
  },
  {
   "cell_type": "markdown",
   "metadata": {},
   "source": [
    "## Decorator Basics\n",
    "\n",
    "### Syntax variants\n",
    "\n",
    "In basic terms, a decorator is a callable that takes a second callable as input and returns another (third) callable, the so called wrapper / closure.\n",
    "\n",
    "The wrapper runs the original input function, and modifies it's result. Decorators modify the behavior of a callable through a wrapper so you don’t have to permanently modify the original. It's behavior changes only when decorated.\n",
    "\n",
    "Step by step:\n",
    "- Firstly, define the actual decorator. It accepts a single argument, which is the function we are trying to decorate. It will return the \"wrapper\".\n",
    "- Inside, we define a wrapper function that _is returned_ and used in place of the original decorated function."
   ]
  },
  {
   "cell_type": "code",
   "execution_count": 10,
   "metadata": {
    "ExecuteTime": {
     "end_time": "2020-10-11T20:06:49.098089Z",
     "start_time": "2020-10-11T20:06:49.091089Z"
    }
   },
   "outputs": [],
   "source": [
    "# Basic time logging decorator, for a function that does not take any arguments\n",
    "\n",
    "def logging_time(func):\n",
    "    \"\"\"Decorator that logs time.\"\"\"\n",
    "    def logger_wrapper():\n",
    "        \"\"\"Function that logs time.\"\"\"\n",
    "        start = time.time()\n",
    "        func()\n",
    "        print(f\"Calling {func.__name__}: {time.time() - start:.5f}\")\n",
    "    return logger_wrapper"
   ]
  },
  {
   "cell_type": "code",
   "execution_count": 13,
   "metadata": {
    "ExecuteTime": {
     "end_time": "2020-10-11T20:06:52.350818Z",
     "start_time": "2020-10-11T20:06:52.347585Z"
    }
   },
   "outputs": [],
   "source": [
    "@logging_time\n",
    "def calculate_sum():\n",
    "    return sum(range(1000000))"
   ]
  },
  {
   "cell_type": "code",
   "execution_count": 14,
   "metadata": {
    "ExecuteTime": {
     "end_time": "2020-10-11T20:06:52.989771Z",
     "start_time": "2020-10-11T20:06:52.938804Z"
    }
   },
   "outputs": [
    {
     "name": "stdout",
     "output_type": "stream",
     "text": [
      "Calling calculate_sum: 0.04600\n"
     ]
    }
   ],
   "source": [
    "calculate_sum()"
   ]
  },
  {
   "cell_type": "code",
   "execution_count": 11,
   "metadata": {
    "ExecuteTime": {
     "end_time": "2020-10-11T20:06:49.621519Z",
     "start_time": "2020-10-11T20:06:49.618523Z"
    }
   },
   "outputs": [],
   "source": [
    "# ALTERNATIVE SYNTAX with manual decoration - you define the input function \"stand-alone\"\n",
    "\n",
    "def calculate_sum():\n",
    "    return sum(range(1000000))\n",
    "\n",
    "calculate_sum = logging_time(calculate_sum)"
   ]
  },
  {
   "cell_type": "code",
   "execution_count": 12,
   "metadata": {
    "ExecuteTime": {
     "end_time": "2020-10-11T20:06:50.380637Z",
     "start_time": "2020-10-11T20:06:50.329640Z"
    }
   },
   "outputs": [
    {
     "name": "stdout",
     "output_type": "stream",
     "text": [
      "Calling calculate_sum: 0.04703\n"
     ]
    }
   ],
   "source": [
    "calculate_sum()"
   ]
  },
  {
   "cell_type": "markdown",
   "metadata": {},
   "source": [
    "**_\"Note that using the @ syntax decorates the function immediately at definition time. This makes it difficult to access the undecorated original without brittle hacks. Therefore you might choose to decorate some functions manually in order to retain the ability to call the undecorated function as well.\"_**"
   ]
  },
  {
   "cell_type": "markdown",
   "metadata": {},
   "source": [
    "### Support Input Arguments for Decorated Function\n",
    "\n",
    "There is a problem with the code snippet above: It assumes that the decorated functions don’t require any input arguments.\n",
    "To address this issue, we should consider using * args and ** kwargs with the _inner_ decorator definition.     \n"
   ]
  },
  {
   "cell_type": "code",
   "execution_count": 6,
   "metadata": {
    "ExecuteTime": {
     "end_time": "2020-10-11T06:23:38.881667Z",
     "start_time": "2020-10-11T06:23:38.875665Z"
    }
   },
   "outputs": [],
   "source": [
    "# Revised version capable of handling input arguments\n",
    "\n",
    "def logging_time(func):\n",
    "    \"\"\"Decorator that logs time.\"\"\"\n",
    "    def logger(*args, **kwargs):\n",
    "        \"\"\"Function that logs time.\"\"\"\n",
    "        start = time.time()\n",
    "        func(*args, **kwargs)\n",
    "        print(f\"Calling {func.__name__}: {time.time() - start:.5f}\")\n",
    "\n",
    "    return logger"
   ]
  },
  {
   "cell_type": "code",
   "execution_count": 7,
   "metadata": {
    "ExecuteTime": {
     "end_time": "2020-10-11T06:23:38.897665Z",
     "start_time": "2020-10-11T06:23:38.890689Z"
    }
   },
   "outputs": [],
   "source": [
    "@logging_time\n",
    "def calculate_sum_n(n):\n",
    "    return sum(range(n))\n",
    "\n",
    "@logging_time\n",
    "def say_hi(whom, greeting=\"Hello\"):\n",
    "    \"\"\"Greet someone\"\"\"\n",
    "    print(f\"{greeting}, {whom}!\")"
   ]
  },
  {
   "cell_type": "code",
   "execution_count": 8,
   "metadata": {
    "ExecuteTime": {
     "end_time": "2020-10-11T06:23:38.908666Z",
     "start_time": "2020-10-11T06:23:38.900666Z"
    }
   },
   "outputs": [
    {
     "name": "stdout",
     "output_type": "stream",
     "text": [
      "Calling calculate_sum_n: 0.00400\n"
     ]
    }
   ],
   "source": [
    "calculate_sum_n(100000)"
   ]
  },
  {
   "cell_type": "code",
   "execution_count": 9,
   "metadata": {
    "ExecuteTime": {
     "end_time": "2020-10-11T06:23:38.918669Z",
     "start_time": "2020-10-11T06:23:38.913669Z"
    }
   },
   "outputs": [
    {
     "name": "stdout",
     "output_type": "stream",
     "text": [
      "hi, raph!\n",
      "Calling say_hi: 0.00000\n"
     ]
    }
   ],
   "source": [
    "say_hi(\"raph\", \"hi\")"
   ]
  },
  {
   "cell_type": "markdown",
   "metadata": {},
   "source": [
    "### Handle Returns of The Decorated Functions\n",
    "\n",
    "You can see we store the returned value in result on line 4. But before returning it, we have to finish timing the function. This is an example of behaviour that would not be possible without decorators."
   ]
  },
  {
   "cell_type": "code",
   "execution_count": 10,
   "metadata": {
    "ExecuteTime": {
     "end_time": "2020-10-11T06:23:38.929667Z",
     "start_time": "2020-10-11T06:23:38.922670Z"
    }
   },
   "outputs": [],
   "source": [
    "# Slightly different logging example\n",
    "\n",
    "def timer_decorator(func):\n",
    "    def timer_wrapper(*args, **kwargs):\n",
    "        import datetime as dt\n",
    "        before = dt.datetime.now()                     \n",
    "        result = func(*args,**kwargs)                \n",
    "        after = dt.datetime.now()                      \n",
    "        print(\"Elapsed Time = {after-before}\")\n",
    "        return result\n",
    "    \n",
    "    return timer_wrapper"
   ]
  },
  {
   "cell_type": "code",
   "execution_count": 11,
   "metadata": {
    "ExecuteTime": {
     "end_time": "2020-10-11T06:23:38.942667Z",
     "start_time": "2020-10-11T06:23:38.932669Z"
    }
   },
   "outputs": [],
   "source": [
    "@timer_decorator\n",
    "def sum_function(x, y):\n",
    "    print(x + y)\n",
    "    return x + y"
   ]
  },
  {
   "cell_type": "code",
   "execution_count": 12,
   "metadata": {
    "ExecuteTime": {
     "end_time": "2020-10-11T06:23:38.952667Z",
     "start_time": "2020-10-11T06:23:38.945666Z"
    }
   },
   "outputs": [
    {
     "name": "stdout",
     "output_type": "stream",
     "text": [
      "7\n",
      "Elapsed Time = {after-before}\n",
      "\n",
      "Result: 7\n"
     ]
    }
   ],
   "source": [
    "result = sum_function(2, 5)\n",
    "print(f\"\\nResult: {result}\")"
   ]
  },
  {
   "cell_type": "markdown",
   "metadata": {},
   "source": [
    "### Wrap the Decorated Function to Preserve Metadata\n",
    "\n",
    "The decoration will by default mess up the metadata of the decorated function, such as docstrings. To solve this problem, we can use another decorator function (wraps) that is shipped in the standard Python library, as shown below.\n",
    "\n",
    "**_\"As a best practice, I’d recommend that you use functools.wraps in all of the decorators you write yourself. It doesn’t take much time and it will save you (and others) debugging headaches down the road. (Dan Bader, Python Tricks, p. 84)\"_**"
   ]
  },
  {
   "cell_type": "code",
   "execution_count": 13,
   "metadata": {
    "ExecuteTime": {
     "end_time": "2020-10-11T06:23:38.961666Z",
     "start_time": "2020-10-11T06:23:38.955668Z"
    }
   },
   "outputs": [
    {
     "name": "stdout",
     "output_type": "stream",
     "text": [
      "Function that logs time.\n"
     ]
    }
   ],
   "source": [
    "# The decorated function now has the wrong docstrings.\n",
    "print(say_hi.__doc__)"
   ]
  },
  {
   "cell_type": "code",
   "execution_count": 14,
   "metadata": {
    "ExecuteTime": {
     "end_time": "2020-10-11T06:23:38.972666Z",
     "start_time": "2020-10-11T06:23:38.964667Z"
    }
   },
   "outputs": [],
   "source": [
    "# Revised decorator using the imported wraps() decorator\n",
    "\n",
    "import functools\n",
    "\n",
    "def logging_time(func):\n",
    "    \"\"\"Decorator that logs time.\"\"\"\n",
    "    @functools.wraps(func)\n",
    "    def logger(*args, **kwargs):\n",
    "        \"\"\"Function that logs time.\"\"\"\n",
    "        start = time.time()\n",
    "        func(*args, **kwargs)\n",
    "        print(f\"Calling {func.__name__}: {time.time() - start:.5f}\")\n",
    "\n",
    "    return logger"
   ]
  },
  {
   "cell_type": "code",
   "execution_count": 15,
   "metadata": {
    "ExecuteTime": {
     "end_time": "2020-10-11T06:23:38.981666Z",
     "start_time": "2020-10-11T06:23:38.975666Z"
    }
   },
   "outputs": [],
   "source": [
    "@logging_time\n",
    "def say_hi(whom, greeting=\"Hello\"):\n",
    "    \"Greet someone.\"\n",
    "    print(f\"{greeting}, {whom}!\")"
   ]
  },
  {
   "cell_type": "code",
   "execution_count": 16,
   "metadata": {
    "ExecuteTime": {
     "end_time": "2020-10-11T06:23:38.989667Z",
     "start_time": "2020-10-11T06:23:38.984670Z"
    }
   },
   "outputs": [
    {
     "name": "stdout",
     "output_type": "stream",
     "text": [
      "Greet someone.\n"
     ]
    }
   ],
   "source": [
    "# The decorated function now has the correct docstrings.\n",
    "print(say_hi.__doc__)"
   ]
  },
  {
   "cell_type": "markdown",
   "metadata": {
    "ExecuteTime": {
     "end_time": "2020-10-08T20:26:30.129091Z",
     "start_time": "2020-10-08T20:26:30.118697Z"
    }
   },
   "source": [
    "### Define Decorators With Arguments\n",
    "\n",
    "The reason for adding another layer to get the decorator to accept arguments is that the decoration process is chaining the function call. Calling logging_time (\"ms\") will allow us to get the logger function, which has exactly the same function signature as the decorator function that we defined earlier.\n",
    "\n",
    "Please note that the current definition of the decorators _requires_ that we specify the unit for the decoration. If you want to make your arguments optional, it needs extra work. (see [here](https://medium.com/better-programming/how-to-write-python-decorators-that-take-parameters-b5a07d7fe393) for more info)."
   ]
  },
  {
   "cell_type": "code",
   "execution_count": 17,
   "metadata": {
    "ExecuteTime": {
     "end_time": "2020-10-11T06:23:39.002670Z",
     "start_time": "2020-10-11T06:23:38.992666Z"
    }
   },
   "outputs": [],
   "source": [
    "# Refined decorator to display the time in the unit that’s specified by the user\n",
    "# (either in milliseconds or seconds).\n",
    "\n",
    "def logging_time(unit):\n",
    "    \"\"\"Decorator that logs time.\"\"\"\n",
    "    def logger(func):\n",
    "        @wraps(func)\n",
    "        def inner_logger(*args, **kwargs):\n",
    "            \"\"\"Function that logs time.\"\"\"\n",
    "            start = time.time()\n",
    "            func(*args, **kwargs)\n",
    "            scaling = 1000 if unit == \"ms\" else 1\n",
    "            print(f\"Calling {func.__name__}: {(time.time() - start) * scaling:.5f} {unit}\")\n",
    "\n",
    "        return inner_logger\n",
    "\n",
    "    return logger"
   ]
  },
  {
   "cell_type": "code",
   "execution_count": 18,
   "metadata": {
    "ExecuteTime": {
     "end_time": "2020-10-11T06:23:39.012666Z",
     "start_time": "2020-10-11T06:23:39.006671Z"
    }
   },
   "outputs": [],
   "source": [
    "@logging_time(\"ms\")\n",
    "def calculate_sum_ms(n):\n",
    "    \"\"\"Calculate sum of 0 to n-1\"\"\"\n",
    "    return sum(range(n))\n",
    "\n",
    "@logging_time(\"s\")\n",
    "def calculate_sum_s(n):\n",
    "    \"\"\"Calculate sum of 0 to n-1\"\"\"\n",
    "    return sum(range(n))"
   ]
  },
  {
   "cell_type": "code",
   "execution_count": 19,
   "metadata": {
    "ExecuteTime": {
     "end_time": "2020-10-11T06:23:39.550667Z",
     "start_time": "2020-10-11T06:23:39.015667Z"
    }
   },
   "outputs": [
    {
     "name": "stdout",
     "output_type": "stream",
     "text": [
      "Calling calculate_sum_ms: 528.99837 ms\n"
     ]
    }
   ],
   "source": [
    "calculate_sum_ms(10000000)"
   ]
  },
  {
   "cell_type": "code",
   "execution_count": 20,
   "metadata": {
    "ExecuteTime": {
     "end_time": "2020-10-11T06:23:39.991216Z",
     "start_time": "2020-10-11T06:23:39.553185Z"
    }
   },
   "outputs": [
    {
     "name": "stdout",
     "output_type": "stream",
     "text": [
      "Calling calculate_sum_s: 0.42451 s\n"
     ]
    }
   ],
   "source": [
    "calculate_sum_s(10000000)"
   ]
  },
  {
   "cell_type": "markdown",
   "metadata": {},
   "source": [
    "### Class-based Decorators\n",
    "\n",
    "It is possible to decorate using classes instead of functions. The only difference is the syntax, so do what you are more comfortable with."
   ]
  },
  {
   "cell_type": "code",
   "execution_count": 21,
   "metadata": {
    "ExecuteTime": {
     "end_time": "2020-10-11T06:23:40.008259Z",
     "start_time": "2020-10-11T06:23:39.993736Z"
    }
   },
   "outputs": [],
   "source": [
    "# Example of a logging decorator class\n",
    "\n",
    "class Logging: \n",
    "  \n",
    "    def __init__(self, function): \n",
    "        self.function = function \n",
    "  \n",
    "    def __call__(self, *args, **kwargs):\n",
    "      print(f'Before {self.function.__name__}')\n",
    "      self.function(*args, **kwargs)\n",
    "      print(f'After {self.function.__name__}')"
   ]
  },
  {
   "cell_type": "code",
   "execution_count": 22,
   "metadata": {
    "ExecuteTime": {
     "end_time": "2020-10-11T06:23:40.016256Z",
     "start_time": "2020-10-11T06:23:40.011258Z"
    }
   },
   "outputs": [],
   "source": [
    "@Logging\n",
    "def sum(x, y):\n",
    "  print(x + y)"
   ]
  },
  {
   "cell_type": "code",
   "execution_count": 23,
   "metadata": {
    "ExecuteTime": {
     "end_time": "2020-10-11T06:23:40.029262Z",
     "start_time": "2020-10-11T06:23:40.021260Z"
    }
   },
   "outputs": [
    {
     "name": "stdout",
     "output_type": "stream",
     "text": [
      "Before sum\n",
      "10\n",
      "After sum\n"
     ]
    }
   ],
   "source": [
    "sum(3, 7)"
   ]
  },
  {
   "cell_type": "code",
   "execution_count": 24,
   "metadata": {
    "ExecuteTime": {
     "end_time": "2020-10-11T06:23:40.039268Z",
     "start_time": "2020-10-11T06:23:40.032258Z"
    }
   },
   "outputs": [],
   "source": [
    "# Example of a repeater decorator class (accecpting an argument)\n",
    "\n",
    "class Repeat:\n",
    "    def __init__(self, n):\n",
    "        self.n = n\n",
    "\n",
    "    def __call__(self, func):\n",
    "        def repeater(*args, **kwargs):\n",
    "            for _ in range(self.n):\n",
    "                func(*args, **kwargs)\n",
    "\n",
    "        return repeater\n",
    "    "
   ]
  },
  {
   "cell_type": "code",
   "execution_count": 25,
   "metadata": {
    "ExecuteTime": {
     "end_time": "2020-10-11T06:23:40.053256Z",
     "start_time": "2020-10-11T06:23:40.047261Z"
    }
   },
   "outputs": [],
   "source": [
    "@Repeat(n=2)\n",
    "def morning_greet(person):\n",
    "    print(f\"Good Morning, {person}!\")"
   ]
  },
  {
   "cell_type": "code",
   "execution_count": 26,
   "metadata": {
    "ExecuteTime": {
     "end_time": "2020-10-11T06:23:40.062266Z",
     "start_time": "2020-10-11T06:23:40.057257Z"
    }
   },
   "outputs": [
    {
     "name": "stdout",
     "output_type": "stream",
     "text": [
      "Good Morning, raph!\n",
      "Good Morning, raph!\n"
     ]
    }
   ],
   "source": [
    "morning_greet(\"raph\")"
   ]
  },
  {
   "cell_type": "markdown",
   "metadata": {},
   "source": [
    "---\n",
    "\n",
    "## Logging Decorator"
   ]
  },
  {
   "cell_type": "markdown",
   "metadata": {},
   "source": [
    "---\n",
    "\n",
    "## Retry Decorator\n",
    "\n",
    "Note: This example is more for practice / understanding. There are python packages like _tenacity_ or _retry_ that provide fully tested retry decorators with more functionality.\n",
    "\n",
    "code mostly take from this [blogpost](https://towardsdatascience.com/are-you-using-python-with-apis-learn-how-to-use-a-retry-decorator-27b6734c3e6)"
   ]
  },
  {
   "cell_type": "code",
   "execution_count": 28,
   "metadata": {
    "ExecuteTime": {
     "end_time": "2020-11-01T15:07:21.721164Z",
     "start_time": "2020-11-01T15:07:21.716164Z"
    }
   },
   "outputs": [],
   "source": [
    "import logging\n",
    "import random\n",
    "import time\n",
    "from functools import wraps\n",
    "from typing import Optional, Tuple, Union\n",
    "\n",
    "logger = logging.getLogger(__name__)"
   ]
  },
  {
   "cell_type": "code",
   "execution_count": 29,
   "metadata": {
    "ExecuteTime": {
     "end_time": "2020-11-01T15:07:22.227334Z",
     "start_time": "2020-11-01T15:07:22.221330Z"
    }
   },
   "outputs": [
    {
     "data": {
      "text/plain": [
       "logging.Logger"
      ]
     },
     "execution_count": 29,
     "metadata": {},
     "output_type": "execute_result"
    }
   ],
   "source": [
    "type(logger)"
   ]
  },
  {
   "cell_type": "code",
   "execution_count": 30,
   "metadata": {
    "ExecuteTime": {
     "end_time": "2020-11-01T15:07:22.800283Z",
     "start_time": "2020-11-01T15:07:22.788701Z"
    }
   },
   "outputs": [],
   "source": [
    "def retry(exceptions: Union[Tuple, str] = Exception,\n",
    "          total_tries: int = 4,\n",
    "          initial_wait: float = 0.5,\n",
    "          backoff_factor: Union[int, float] = 2, \n",
    "          logger: Optional[logging.Logger] = None\n",
    "    ):\n",
    "    \"\"\"Calling the decorated function,  applying an exponential backoff.\n",
    "    \n",
    "    Args:\n",
    "    - exceptions: Exeption(s) that trigger a retry, can be a tuple like: \n",
    "        (ConnectionAbortedError, ConnectionRefusedError, ConnectionResetError).\n",
    "    - total_tries: Total tries before fail.\n",
    "    - initial_wait: Time to first retry.\n",
    "    - backoff_factor: Backoff multiplier (e.g. value of 2 will double the delay each retry).\n",
    "    - logger: logger to be used, if none specified print to standard out.\n",
    "    \"\"\"\n",
    "    def retry_wrapper(func):\n",
    "        @wraps(func)\n",
    "        def func_with_retries(*args, **kwargs):\n",
    "            _tries, _delay = total_tries + 1, initial_wait\n",
    "            while _tries > 1:\n",
    "                try:\n",
    "                    _log(f\"{total_tries + 2 - _tries}. try: {logger}\")\n",
    "                    return func(*args, **kwargs)\n",
    "                except exceptions as e:\n",
    "                    _tries -= 1\n",
    "                    print_args = args if args else \"no args\"\n",
    "                    if _tries == 1:\n",
    "                        msg = str(f\"Function: {func.__name__}\\n\"\n",
    "                                  f\"Failed despite best efforts after {total_tries} tries.\\n\"\n",
    "                                  f\"args: {print_args}, kwargs: {kwargs}\")\n",
    "                        _log(msg, logger)\n",
    "                        raise\n",
    "                    msg = str(f\"Function: {func.__name__}\\n\"\n",
    "                              f\"Exception: {e}\\n\"\n",
    "                              f\"Retrying in {_delay} seconds!, args: {print_args}, kwargs: {kwargs}\\n\")\n",
    "                    _log(msg, logger)\n",
    "                    time.sleep(_delay)\n",
    "                    _delay *= backoff_factor\n",
    "\n",
    "        return func_with_retries\n",
    "    return retry_wrapper\n",
    "\n",
    "\n",
    "def _log(msg, logger=None):\n",
    "    if logger:\n",
    "        logger.warning(msg)\n",
    "    else:\n",
    "        print(msg)"
   ]
  },
  {
   "cell_type": "code",
   "execution_count": 21,
   "metadata": {
    "ExecuteTime": {
     "end_time": "2020-11-01T15:03:28.451995Z",
     "start_time": "2020-11-01T15:03:28.444992Z"
    }
   },
   "outputs": [],
   "source": [
    "# Test it\n",
    "\n",
    "@retry(Exception, total_tries=2, logger=None)\n",
    "def test_func(*args, **kwargs):\n",
    "    rnd = random.random()\n",
    "    if rnd < .2:\n",
    "        raise ConnectionAbortedError('Connection was aborted :(')\n",
    "    elif rnd < .4:\n",
    "        raise ConnectionRefusedError('Connection was refused :/')\n",
    "    elif rnd < .8:\n",
    "        raise ConnectionResetError('Guess the connection was reset')\n",
    "    else:\n",
    "        return 'Success!'\n",
    "\n",
    "\n",
    "# if __name__ == '__main__':\n",
    "    # retry_wrapper = retry((ConnectionAbortedError), tries=3, delay=.2, backoff=1, logger=logger)\n",
    "    # wrapped_test_func = retry_wrapper(test_func)\n",
    "    # print(wrapped_test_func('hi', 'bye', hi='ciao'))"
   ]
  },
  {
   "cell_type": "code",
   "execution_count": 22,
   "metadata": {
    "ExecuteTime": {
     "end_time": "2020-11-01T15:03:30.137406Z",
     "start_time": "2020-11-01T15:03:29.620654Z"
    }
   },
   "outputs": [
    {
     "name": "stdout",
     "output_type": "stream",
     "text": [
      "1. try: None\n",
      "Function: test_func\n",
      "Exception: Connection was refused :/\n",
      "Retrying in 0.5 seconds!, args: ('hi', 'bye'), kwargs: {'hi': 'ciao'}\n",
      "\n",
      "2. try: None\n",
      "Function: test_func\n",
      "Failed despite best efforts after 2 tries.\n",
      "args: ('hi', 'bye'), kwargs: {'hi': 'ciao'}\n"
     ]
    },
    {
     "ename": "ConnectionAbortedError",
     "evalue": "Connection was aborted :(",
     "output_type": "error",
     "traceback": [
      "\u001b[1;31m---------------------------------------------------------------------------\u001b[0m",
      "\u001b[1;31mConnectionAbortedError\u001b[0m                    Traceback (most recent call last)",
      "\u001b[1;32m<ipython-input-22-13dd65a8b100>\u001b[0m in \u001b[0;36m<module>\u001b[1;34m\u001b[0m\n\u001b[1;32m----> 1\u001b[1;33m \u001b[0mtest_func\u001b[0m\u001b[1;33m(\u001b[0m\u001b[1;34m'hi'\u001b[0m\u001b[1;33m,\u001b[0m \u001b[1;34m'bye'\u001b[0m\u001b[1;33m,\u001b[0m \u001b[0mhi\u001b[0m\u001b[1;33m=\u001b[0m\u001b[1;34m'ciao'\u001b[0m\u001b[1;33m)\u001b[0m\u001b[1;33m\u001b[0m\u001b[1;33m\u001b[0m\u001b[0m\n\u001b[0m",
      "\u001b[1;32m<ipython-input-20-2255ba025f8b>\u001b[0m in \u001b[0;36mfunc_with_retries\u001b[1;34m(*args, **kwargs)\u001b[0m\n\u001b[0;32m     16\u001b[0m                 \u001b[1;32mtry\u001b[0m\u001b[1;33m:\u001b[0m\u001b[1;33m\u001b[0m\u001b[1;33m\u001b[0m\u001b[0m\n\u001b[0;32m     17\u001b[0m                     \u001b[0m_log\u001b[0m\u001b[1;33m(\u001b[0m\u001b[1;34mf\"{total_tries + 2 - _tries}. try: {logger}\"\u001b[0m\u001b[1;33m)\u001b[0m\u001b[1;33m\u001b[0m\u001b[1;33m\u001b[0m\u001b[0m\n\u001b[1;32m---> 18\u001b[1;33m                     \u001b[1;32mreturn\u001b[0m \u001b[0mfunc\u001b[0m\u001b[1;33m(\u001b[0m\u001b[1;33m*\u001b[0m\u001b[0margs\u001b[0m\u001b[1;33m,\u001b[0m \u001b[1;33m**\u001b[0m\u001b[0mkwargs\u001b[0m\u001b[1;33m)\u001b[0m\u001b[1;33m\u001b[0m\u001b[1;33m\u001b[0m\u001b[0m\n\u001b[0m\u001b[0;32m     19\u001b[0m                 \u001b[1;32mexcept\u001b[0m \u001b[0mexceptions\u001b[0m \u001b[1;32mas\u001b[0m \u001b[0me\u001b[0m\u001b[1;33m:\u001b[0m\u001b[1;33m\u001b[0m\u001b[1;33m\u001b[0m\u001b[0m\n\u001b[0;32m     20\u001b[0m                     \u001b[0m_tries\u001b[0m \u001b[1;33m-=\u001b[0m \u001b[1;36m1\u001b[0m\u001b[1;33m\u001b[0m\u001b[1;33m\u001b[0m\u001b[0m\n",
      "\u001b[1;32m<ipython-input-21-ab9bbbfe793d>\u001b[0m in \u001b[0;36mtest_func\u001b[1;34m(*args, **kwargs)\u001b[0m\n\u001b[0;32m      5\u001b[0m     \u001b[0mrnd\u001b[0m \u001b[1;33m=\u001b[0m \u001b[0mrandom\u001b[0m\u001b[1;33m.\u001b[0m\u001b[0mrandom\u001b[0m\u001b[1;33m(\u001b[0m\u001b[1;33m)\u001b[0m\u001b[1;33m\u001b[0m\u001b[1;33m\u001b[0m\u001b[0m\n\u001b[0;32m      6\u001b[0m     \u001b[1;32mif\u001b[0m \u001b[0mrnd\u001b[0m \u001b[1;33m<\u001b[0m \u001b[1;36m.2\u001b[0m\u001b[1;33m:\u001b[0m\u001b[1;33m\u001b[0m\u001b[1;33m\u001b[0m\u001b[0m\n\u001b[1;32m----> 7\u001b[1;33m         \u001b[1;32mraise\u001b[0m \u001b[0mConnectionAbortedError\u001b[0m\u001b[1;33m(\u001b[0m\u001b[1;34m'Connection was aborted :('\u001b[0m\u001b[1;33m)\u001b[0m\u001b[1;33m\u001b[0m\u001b[1;33m\u001b[0m\u001b[0m\n\u001b[0m\u001b[0;32m      8\u001b[0m     \u001b[1;32melif\u001b[0m \u001b[0mrnd\u001b[0m \u001b[1;33m<\u001b[0m \u001b[1;36m.4\u001b[0m\u001b[1;33m:\u001b[0m\u001b[1;33m\u001b[0m\u001b[1;33m\u001b[0m\u001b[0m\n\u001b[0;32m      9\u001b[0m         \u001b[1;32mraise\u001b[0m \u001b[0mConnectionRefusedError\u001b[0m\u001b[1;33m(\u001b[0m\u001b[1;34m'Connection was refused :/'\u001b[0m\u001b[1;33m)\u001b[0m\u001b[1;33m\u001b[0m\u001b[1;33m\u001b[0m\u001b[0m\n",
      "\u001b[1;31mConnectionAbortedError\u001b[0m: Connection was aborted :("
     ]
    }
   ],
   "source": [
    "test_func('hi', 'bye', hi='ciao')"
   ]
  },
  {
   "cell_type": "markdown",
   "metadata": {},
   "source": [
    "---"
   ]
  }
 ],
 "metadata": {
  "hide_input": false,
  "kernelspec": {
   "display_name": "Python 3",
   "language": "python",
   "name": "python3"
  },
  "language_info": {
   "codemirror_mode": {
    "name": "ipython",
    "version": 3
   },
   "file_extension": ".py",
   "mimetype": "text/x-python",
   "name": "python",
   "nbconvert_exporter": "python",
   "pygments_lexer": "ipython3",
   "version": "3.8.3"
  },
  "toc": {
   "base_numbering": 1,
   "nav_menu": {},
   "number_sections": true,
   "sideBar": false,
   "skip_h1_title": true,
   "title_cell": "Contents",
   "title_sidebar": "Contents",
   "toc_cell": true,
   "toc_position": {},
   "toc_section_display": true,
   "toc_window_display": false
  }
 },
 "nbformat": 4,
 "nbformat_minor": 4
}
