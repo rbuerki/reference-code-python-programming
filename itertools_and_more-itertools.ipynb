{
 "cells": [
  {
   "cell_type": "markdown",
   "metadata": {
    "toc": true
   },
   "source": [
    "<h1>Table of Contents<span class=\"tocSkip\"></span></h1>\n",
    "<div class=\"toc\"><ul class=\"toc-item\"><li><span><a href=\"#Itertools\" data-toc-modified-id=\"Itertools-1\"><span class=\"toc-item-num\">1&nbsp;&nbsp;</span>Itertools</a></span><ul class=\"toc-item\"><li><span><a href=\"#Accumulate--(vs.--functools.reduce)\" data-toc-modified-id=\"Accumulate--(vs.--functools.reduce)-1.1\"><span class=\"toc-item-num\">1.1&nbsp;&nbsp;</span>Accumulate  (vs.  functools.reduce)</a></span></li><li><span><a href=\"#Compress\" data-toc-modified-id=\"Compress-1.2\"><span class=\"toc-item-num\">1.2&nbsp;&nbsp;</span>Compress</a></span></li><li><span><a href=\"#Count\" data-toc-modified-id=\"Count-1.3\"><span class=\"toc-item-num\">1.3&nbsp;&nbsp;</span>Count</a></span></li><li><span><a href=\"#dropwhile-/-takewhile\" data-toc-modified-id=\"dropwhile-/-takewhile-1.4\"><span class=\"toc-item-num\">1.4&nbsp;&nbsp;</span>dropwhile / takewhile</a></span></li><li><span><a href=\"#Isslice\" data-toc-modified-id=\"Isslice-1.5\"><span class=\"toc-item-num\">1.5&nbsp;&nbsp;</span>Isslice</a></span></li><li><span><a href=\"#Groupby\" data-toc-modified-id=\"Groupby-1.6\"><span class=\"toc-item-num\">1.6&nbsp;&nbsp;</span>Groupby</a></span></li><li><span><a href=\"#Permutation-&amp;-combinations\" data-toc-modified-id=\"Permutation-&amp;-combinations-1.7\"><span class=\"toc-item-num\">1.7&nbsp;&nbsp;</span>Permutation &amp; combinations</a></span></li><li><span><a href=\"#Cycle\" data-toc-modified-id=\"Cycle-1.8\"><span class=\"toc-item-num\">1.8&nbsp;&nbsp;</span>Cycle</a></span></li><li><span><a href=\"#Some-more-...\" data-toc-modified-id=\"Some-more-...-1.9\"><span class=\"toc-item-num\">1.9&nbsp;&nbsp;</span>Some more ...</a></span></li></ul></li><li><span><a href=\"#more_itertools\" data-toc-modified-id=\"more_itertools-2\"><span class=\"toc-item-num\">2&nbsp;&nbsp;</span>more_itertools</a></span><ul class=\"toc-item\"><li><span><a href=\"#Divide\" data-toc-modified-id=\"Divide-2.1\"><span class=\"toc-item-num\">2.1&nbsp;&nbsp;</span>Divide</a></span></li><li><span><a href=\"#Partition\" data-toc-modified-id=\"Partition-2.2\"><span class=\"toc-item-num\">2.2&nbsp;&nbsp;</span>Partition</a></span></li><li><span><a href=\"#Split_at\" data-toc-modified-id=\"Split_at-2.3\"><span class=\"toc-item-num\">2.3&nbsp;&nbsp;</span>Split_at</a></span></li><li><span><a href=\"#Bucket\" data-toc-modified-id=\"Bucket-2.4\"><span class=\"toc-item-num\">2.4&nbsp;&nbsp;</span>Bucket</a></span></li><li><span><a href=\"#filter_except\" data-toc-modified-id=\"filter_except-2.5\"><span class=\"toc-item-num\">2.5&nbsp;&nbsp;</span>filter_except</a></span></li><li><span><a href=\"#map_except\" data-toc-modified-id=\"map_except-2.6\"><span class=\"toc-item-num\">2.6&nbsp;&nbsp;</span>map_except</a></span></li><li><span><a href=\"#Consecutive_groups\" data-toc-modified-id=\"Consecutive_groups-2.7\"><span class=\"toc-item-num\">2.7&nbsp;&nbsp;</span>Consecutive_groups</a></span></li><li><span><a href=\"#Collapse\" data-toc-modified-id=\"Collapse-2.8\"><span class=\"toc-item-num\">2.8&nbsp;&nbsp;</span>Collapse</a></span></li><li><span><a href=\"#MAP_REDUCE\" data-toc-modified-id=\"MAP_REDUCE-2.9\"><span class=\"toc-item-num\">2.9&nbsp;&nbsp;</span>MAP_REDUCE</a></span></li><li><span><a href=\"#numeric_range\" data-toc-modified-id=\"numeric_range-2.10\"><span class=\"toc-item-num\">2.10&nbsp;&nbsp;</span>numeric_range</a></span></li><li><span><a href=\"#Some-more-...\" data-toc-modified-id=\"Some-more-...-2.11\"><span class=\"toc-item-num\">2.11&nbsp;&nbsp;</span>Some more ...</a></span></li></ul></li></ul></div>"
   ]
  },
  {
   "cell_type": "code",
   "execution_count": 1,
   "metadata": {
    "ExecuteTime": {
     "end_time": "2020-10-07T19:57:12.554315Z",
     "start_time": "2020-10-07T19:57:11.312907Z"
    }
   },
   "outputs": [],
   "source": [
    "import datetime as dt\n",
    "import itertools\n",
    "import more_itertools\n",
    "import sys\n",
    "import time\n",
    "from pathlib import Path\n",
    "from pprint import pprint\n",
    "\n",
    "import numpy as np\n",
    "import pandas as pd"
   ]
  },
  {
   "cell_type": "code",
   "execution_count": 2,
   "metadata": {
    "ExecuteTime": {
     "end_time": "2020-10-07T19:57:12.572075Z",
     "start_time": "2020-10-07T19:57:12.560063Z"
    }
   },
   "outputs": [
    {
     "name": "stdout",
     "output_type": "stream",
     "text": [
      "C:\\Users\\r2d4\\miniconda3\\envs\\py3\\python.exe\n",
      "3.8.3 (default, May 19 2020, 06:50:17) [MSC v.1916 64 bit (AMD64)]\n"
     ]
    }
   ],
   "source": [
    "print(sys.executable)\n",
    "print(sys.version)"
   ]
  },
  {
   "cell_type": "markdown",
   "metadata": {},
   "source": [
    "## Itertools"
   ]
  },
  {
   "cell_type": "markdown",
   "metadata": {
    "ExecuteTime": {
     "end_time": "2020-10-05T06:20:44.775414Z",
     "start_time": "2020-10-05T06:20:44.768417Z"
    }
   },
   "source": [
    "### Accumulate  (vs.  functools.reduce)\n",
    "\n",
    "Accumulates the results of some (binary) function, e.g. max or factorial. Returns an iterator with all intermediary results."
   ]
  },
  {
   "cell_type": "code",
   "execution_count": 3,
   "metadata": {
    "ExecuteTime": {
     "end_time": "2020-10-07T19:57:12.605063Z",
     "start_time": "2020-10-07T19:57:12.577062Z"
    }
   },
   "outputs": [
    {
     "data": {
      "text/plain": [
       "[3, 4, 4, 4, 5, 6, 9, 9, 9]"
      ]
     },
     "execution_count": 3,
     "metadata": {},
     "output_type": "execute_result"
    }
   ],
   "source": [
    "data = [3, 4, 1, 3, 5, 6, 9, 0, 1]\n",
    "\n",
    "# Calculate the running max\n",
    "result = itertools.accumulate(data, max)  \n",
    "\n",
    "list(result)  # Returns an iterator"
   ]
  },
  {
   "cell_type": "code",
   "execution_count": 4,
   "metadata": {
    "ExecuteTime": {
     "end_time": "2020-10-07T19:57:12.615063Z",
     "start_time": "2020-10-07T19:57:12.608063Z"
    }
   },
   "outputs": [
    {
     "name": "stdout",
     "output_type": "stream",
     "text": [
      "[3, 12, 12, 36, 180, 1080, 9720, 0, 0]\n",
      "[1000, 997, 993, 992, 989, 984, 978, 969, 969, 968]\n"
     ]
    }
   ],
   "source": [
    "# Some more examples using operator (addition is default, if no function is passed)\n",
    "\n",
    "import operator\n",
    "\n",
    "print(list(itertools.accumulate(data, operator.mul)))\n",
    "print(list(itertools.accumulate(data, operator.sub, initial=1000)))"
   ]
  },
  {
   "cell_type": "markdown",
   "metadata": {},
   "source": [
    "Attention: If you don’t care about intermediate results, use `functools.reduce` , which keeps only the final value and is more memory efficient:"
   ]
  },
  {
   "cell_type": "code",
   "execution_count": 5,
   "metadata": {
    "ExecuteTime": {
     "end_time": "2020-10-07T19:57:12.626063Z",
     "start_time": "2020-10-07T19:57:12.618064Z"
    }
   },
   "outputs": [
    {
     "data": {
      "text/plain": [
       "9"
      ]
     },
     "execution_count": 5,
     "metadata": {},
     "output_type": "execute_result"
    }
   ],
   "source": [
    "from functools import reduce\n",
    "\n",
    "result = reduce(max, data)\n",
    "\n",
    "result"
   ]
  },
  {
   "cell_type": "markdown",
   "metadata": {
    "ExecuteTime": {
     "end_time": "2020-10-05T06:43:26.347241Z",
     "start_time": "2020-10-05T06:43:26.341243Z"
    }
   },
   "source": [
    "<img src=\"diff_between_red_acc.jpg\" width=\"50%\" />"
   ]
  },
  {
   "cell_type": "markdown",
   "metadata": {
    "ExecuteTime": {
     "end_time": "2020-10-05T06:10:19.936000Z",
     "start_time": "2020-10-05T06:10:19.932004Z"
    }
   },
   "source": [
    "### Compress\n",
    "\n",
    "One of many options to filtering sequences: `compress` takes an _iterable_ and a _boolean selector_ and returns an iterator containing items of the iterable where the corresponding element in the selector is True.\n",
    "\n",
    "(see the more advanced `more_itertools.partition()` if you want to pass a callable.)"
   ]
  },
  {
   "cell_type": "code",
   "execution_count": 6,
   "metadata": {
    "ExecuteTime": {
     "end_time": "2020-10-07T19:57:12.642580Z",
     "start_time": "2020-10-07T19:57:12.629066Z"
    }
   },
   "outputs": [
    {
     "data": {
      "text/plain": [
       "['2020-02-04', '2020-01-24', '2020-02-10', '2020-02-15']"
      ]
     },
     "execution_count": 6,
     "metadata": {},
     "output_type": "execute_result"
    }
   ],
   "source": [
    "dates = [\n",
    "    \"2020-01-01\",\n",
    "    \"2020-02-04\",\n",
    "    \"2020-02-01\",\n",
    "    \"2020-01-24\",\n",
    "    \"2020-01-08\",\n",
    "    \"2020-02-10\",\n",
    "    \"2020-02-15\",\n",
    "    \"2020-02-11\",\n",
    "]\n",
    "\n",
    "counts = [1, 4, 3, 8, 0, 7, 9, 2]\n",
    "\n",
    "bools = [n > 3 for n in counts]\n",
    "result = itertools.compress(dates, bools)\n",
    "\n",
    "list(result)  # Returns an iterator"
   ]
  },
  {
   "cell_type": "markdown",
   "metadata": {},
   "source": [
    "### Count\n",
    "\n",
    "The purpose of count() is to return an iterator, that simply starts counting at a specified number. Optionally, you can provide the step size as a second parameter.\n",
    "\n",
    "The count() function really shines in combination with other functions:"
   ]
  },
  {
   "cell_type": "code",
   "execution_count": 26,
   "metadata": {
    "ExecuteTime": {
     "end_time": "2020-10-07T20:00:32.378289Z",
     "start_time": "2020-10-07T20:00:32.373230Z"
    }
   },
   "outputs": [
    {
     "name": "stdout",
     "output_type": "stream",
     "text": [
      "[(1, 'Alice'), (2, 'Bob'), (3, 'Larry'), (4, 'Margaret')]\n"
     ]
    }
   ],
   "source": [
    "# Index a list of names\n",
    "names = [\"Alice\", \"Bob\", \"Larry\", \"Margaret\"]\n",
    "names_with_index = [name for name in zip(itertools.count(1), names)]\n",
    "print(names_with_index)"
   ]
  },
  {
   "cell_type": "markdown",
   "metadata": {},
   "source": [
    "### dropwhile / takewhile\n",
    "\n",
    "Dropwhile() drops elements as long as the specified condition is true. If the condition once becomes false, all remaining elements are returned sequentially. Takewhile() is the opposite"
   ]
  },
  {
   "cell_type": "code",
   "execution_count": 27,
   "metadata": {
    "ExecuteTime": {
     "end_time": "2020-10-07T20:08:12.224721Z",
     "start_time": "2020-10-07T20:08:12.216723Z"
    }
   },
   "outputs": [
    {
     "data": {
      "text/plain": [
       "[6, 4, 1]"
      ]
     },
     "execution_count": 27,
     "metadata": {},
     "output_type": "execute_result"
    }
   ],
   "source": [
    "# Dropwhile\n",
    "data = [1, 4, 6, 4, 1]\n",
    "\n",
    "list(itertools.dropwhile(lambda x: x < 5, data))"
   ]
  },
  {
   "cell_type": "code",
   "execution_count": 28,
   "metadata": {
    "ExecuteTime": {
     "end_time": "2020-10-07T20:08:44.811087Z",
     "start_time": "2020-10-07T20:08:44.806094Z"
    }
   },
   "outputs": [
    {
     "data": {
      "text/plain": [
       "[1, 4]"
      ]
     },
     "execution_count": 28,
     "metadata": {},
     "output_type": "execute_result"
    }
   ],
   "source": [
    "# Takewhile\n",
    "list(itertools.takewhile(lambda x: x < 5, data))"
   ]
  },
  {
   "cell_type": "markdown",
   "metadata": {
    "ExecuteTime": {
     "end_time": "2020-10-07T20:13:25.061998Z",
     "start_time": "2020-10-07T20:13:25.055000Z"
    }
   },
   "source": [
    "### Isslice\n",
    "\n",
    "Return an iterator whose next() method returns selected values from an iterable. Start, stop and step can be defined."
   ]
  },
  {
   "cell_type": "code",
   "execution_count": 29,
   "metadata": {
    "ExecuteTime": {
     "end_time": "2020-10-07T20:12:31.804380Z",
     "start_time": "2020-10-07T20:12:31.795299Z"
    }
   },
   "outputs": [
    {
     "name": "stdout",
     "output_type": "stream",
     "text": [
      "islice with stop parameter only: [0, 1]\n",
      "islice with start and stop: [40, 41, 42, 43]\n",
      "islice with start, stop, and step: [5, 15, 25, 35]\n"
     ]
    }
   ],
   "source": [
    "list1 = list(itertools.islice(range(50), 2))\n",
    "list2 = list(itertools.islice(range(50), 40, 44))\n",
    "list3 = list(itertools.islice(range(50), 5, 45, 10))\n",
    "\n",
    "print(f\"islice with stop parameter only: {list1}\")\n",
    "print(f\"islice with start and stop: {list2}\")\n",
    "print(f\"islice with start, stop, and step: {list3}\")"
   ]
  },
  {
   "cell_type": "markdown",
   "metadata": {},
   "source": [
    "### Groupby\n",
    "\n",
    "The groupby() function is great for retrieving bunches of iterator elements which are the same or have similar properties.\n",
    "\n",
    "(This is quite similar to first step of more_itertools.map_reduce() but instead of a defaultdict it creates an iterator that returns consecutive keys and groups from the input iterable.)"
   ]
  },
  {
   "cell_type": "code",
   "execution_count": 54,
   "metadata": {
    "ExecuteTime": {
     "end_time": "2020-10-07T20:41:37.564229Z",
     "start_time": "2020-10-07T20:41:37.558231Z"
    }
   },
   "outputs": [
    {
     "name": "stdout",
     "output_type": "stream",
     "text": [
      "<class 'itertools.groupby'>\n",
      "(1, [1, 1, 1])\n",
      "(2, [2, 2, 2])\n",
      "(3, [3, 3])\n",
      "(4, [4])\n",
      "(5, [5])\n"
     ]
    }
   ],
   "source": [
    "data = sorted([1, 2, 1, 3, 2, 1, 2, 3, 4, 5]) # only works properly if keys are sorted\n",
    "groups = itertools.groupby(data)\n",
    "\n",
    "print(type(groups))\n",
    "for key, value in groups:\n",
    "    print((key, list(value)), end=\"\\n\")"
   ]
  },
  {
   "cell_type": "code",
   "execution_count": 51,
   "metadata": {
    "ExecuteTime": {
     "end_time": "2020-10-07T20:39:21.359950Z",
     "start_time": "2020-10-07T20:39:21.354742Z"
    }
   },
   "outputs": [
    {
     "name": "stdout",
     "output_type": "stream",
     "text": [
      "defaultdict(None, {1: [1, 1, 1], 2: [2, 2, 2], 3: [3, 3], 4: [4], 5: [5]})\n"
     ]
    }
   ],
   "source": [
    "# For comparison: first step of map_reduce from more_itertools (see below)\n",
    "keyfunc = lambda x: x\n",
    "\n",
    "result = more_itertools.map_reduce(data, keyfunc)\n",
    "\n",
    "pprint(result)"
   ]
  },
  {
   "cell_type": "markdown",
   "metadata": {},
   "source": [
    "### Permutation & combinations"
   ]
  },
  {
   "cell_type": "code",
   "execution_count": 38,
   "metadata": {
    "ExecuteTime": {
     "end_time": "2020-10-07T20:31:42.851229Z",
     "start_time": "2020-10-07T20:31:42.845957Z"
    }
   },
   "outputs": [
    {
     "name": "stdout",
     "output_type": "stream",
     "text": [
      "[(1, 2, 3), (1, 3, 2), (2, 1, 3), (2, 3, 1), (3, 1, 2), (3, 2, 1)]\n",
      "[(1, 2), (1, 3), (2, 1), (2, 3), (3, 1), (3, 2)]\n"
     ]
    }
   ],
   "source": [
    "# Permuations - all possible combis, r = lenght of combis (optional)\n",
    "# May not be ideal if values are repeated (the go for the ones below)\n",
    "l = [1, 2, 3, ]\n",
    "\n",
    "print(list(itertools.permutations(l)))\n",
    "print(list(itertools.permutations(l, 2)))"
   ]
  },
  {
   "cell_type": "code",
   "execution_count": 36,
   "metadata": {
    "ExecuteTime": {
     "end_time": "2020-10-07T20:33:19.614015Z",
     "start_time": "2020-10-07T20:33:19.610016Z"
    }
   },
   "outputs": [
    {
     "name": "stdout",
     "output_type": "stream",
     "text": [
      "[(1, 2, 3), (1, 2, 1), (1, 3, 1), (2, 3, 1)]\n",
      "[(1, 2), (1, 3), (1, 1), (2, 3), (2, 1), (3, 1)]\n"
     ]
    }
   ],
   "source": [
    "# Combinations - elements are treated as unique based on their position, not on their value. \n",
    "# So only if the input elements’ values are unique, there will be no repeated values in each combination.\n",
    "l = [1, 2, 3, 1]\n",
    "\n",
    "print(list(itertools.combinations(l, 3)))  # r param not optional\n",
    "print(list(itertools.combinations(l, 2)))"
   ]
  },
  {
   "cell_type": "code",
   "execution_count": 41,
   "metadata": {
    "ExecuteTime": {
     "end_time": "2020-10-07T20:33:19.614015Z",
     "start_time": "2020-10-07T20:33:19.610016Z"
    }
   },
   "outputs": [
    {
     "name": "stdout",
     "output_type": "stream",
     "text": [
      "[(1, 1, 1), (1, 1, 2), (1, 1, 3), (1, 2, 2), (1, 2, 3), (1, 3, 3), (2, 2, 2), (2, 2, 3), (2, 3, 3), (3, 3, 3)]\n",
      "[(1, 1), (1, 2), (1, 3), (2, 2), (2, 3), (3, 3)]\n"
     ]
    }
   ],
   "source": [
    "# Combinations_with_replacement - compute combinations which include repeated elements.\n",
    "l = [1, 2, 3, ]\n",
    "\n",
    "print(list(itertools.combinations_with_replacement(l, 3)))\n",
    "print(list(itertools.combinations_with_replacement(l, 2)))"
   ]
  },
  {
   "cell_type": "markdown",
   "metadata": {},
   "source": [
    "### Cycle\n",
    "\n",
    "This function takes iterable and creates infinite cycle from it. "
   ]
  },
  {
   "cell_type": "code",
   "execution_count": 7,
   "metadata": {
    "ExecuteTime": {
     "end_time": "2020-10-07T19:57:12.659581Z",
     "start_time": "2020-10-07T19:57:12.651583Z"
    }
   },
   "outputs": [
    {
     "name": "stdout",
     "output_type": "stream",
     "text": [
      "Raph\n",
      "Esra\n",
      "Raph\n"
     ]
    }
   ],
   "source": [
    "players = [\"Raph\", \"Esra\"]\n",
    "\n",
    "next_player = itertools.cycle(players).__next__\n",
    "\n",
    "for i in range(3):\n",
    "    print(next_player())"
   ]
  },
  {
   "cell_type": "code",
   "execution_count": 8,
   "metadata": {
    "ExecuteTime": {
     "end_time": "2020-10-07T19:57:12.671581Z",
     "start_time": "2020-10-07T19:57:12.662580Z"
    }
   },
   "outputs": [],
   "source": [
    "# # Example: Infinite Spinner\n",
    "# for c in itertools.cycle(\"/-\\|\"):\n",
    "#     print(c, end=\"\\r\")\n",
    "#     time.sleep(0.2)"
   ]
  },
  {
   "cell_type": "markdown",
   "metadata": {
    "ExecuteTime": {
     "end_time": "2020-10-07T20:15:33.374717Z",
     "start_time": "2020-10-07T20:15:33.368721Z"
    }
   },
   "source": [
    "### Some more ...\n",
    "\n",
    "- chain() - _combine iterables, e.g. for a loop_\n",
    "- chain.from_iterable() - _same, but you pass an iterable of iterators/iterables_\n",
    "- filterfalse() - _complement to builtin filter()_\n",
    "- repeat() - _quite similar to cycle, often used with zip() or map()_\n",
    "- starmap() - _quite similar to builtin map() but takes args from one iterable only_\n",
    "- zip_longest() - _zip two iterators until the longer one is exhausted_\n",
    "- tee() - _multiply an iterator (not threadsave)_\n",
    "- product() - _computes the cartesian product for a given list of iterables_\n",
    "\n",
    "See [here](https://florian-dahlitz.de/blog/introduction-to-itertools#more-itertools)"
   ]
  },
  {
   "cell_type": "markdown",
   "metadata": {},
   "source": [
    "## more_itertools"
   ]
  },
  {
   "cell_type": "markdown",
   "metadata": {
    "ExecuteTime": {
     "end_time": "2020-10-05T20:06:15.714373Z",
     "start_time": "2020-10-05T20:06:15.707377Z"
    }
   },
   "source": [
    "### Divide\n",
    "\n",
    "Divide the elements from *iterable* into *n* parts, maintaining order. If the length of *iterable* is not evenly divisible by *n*, then the\n",
    "length of the returned iterables will not be identical (see example below.)\n",
    "\n",
    "Note: This function will exhaust the iterable before returning and may require significant storage. If order is not important, see `distribute`, which does not first pull the iterable into memory."
   ]
  },
  {
   "cell_type": "code",
   "execution_count": 9,
   "metadata": {
    "ExecuteTime": {
     "end_time": "2020-10-07T19:57:12.683584Z",
     "start_time": "2020-10-07T19:57:12.674584Z"
    }
   },
   "outputs": [
    {
     "data": {
      "text/plain": [
       "[['first', 'second', 'third'], ['fourth', 'fifth'], ['sixth', 'seventh']]"
      ]
     },
     "execution_count": 9,
     "metadata": {},
     "output_type": "execute_result"
    }
   ],
   "source": [
    "data = [\"first\", \"second\", \"third\", \"fourth\", \"fifth\", \"sixth\", \"seventh\"]\n",
    "\n",
    "[list(l) for l in more_itertools.divide(3, data)]"
   ]
  },
  {
   "cell_type": "markdown",
   "metadata": {},
   "source": [
    "### Partition\n",
    "\n",
    "This function is also dividing an iterable with a boolean selector (see `itertools.compress`), this time however, using a callable.\n",
    "\n",
    "Returns a 2-tuple of iterables derived from the input iterable.\n",
    "The first yields the items that have ``pred(item) == False``.\n",
    "The second yields the items that have ``pred(item) == True``."
   ]
  },
  {
   "cell_type": "code",
   "execution_count": 10,
   "metadata": {
    "ExecuteTime": {
     "end_time": "2020-10-07T19:57:12.704580Z",
     "start_time": "2020-10-07T19:57:12.687581Z"
    }
   },
   "outputs": [
    {
     "name": "stdout",
     "output_type": "stream",
     "text": [
      "Allowed: ['foo.jpg', 'baz.gif']\n",
      "Forbidden: ['bar.exe', 'text.txt', 'data.bin']\n"
     ]
    }
   ],
   "source": [
    "# Example: Split based on file extension\n",
    "\n",
    "files = [\n",
    "    \"foo.jpg\",\n",
    "    \"bar.exe\",\n",
    "    \"baz.gif\",\n",
    "    \"text.txt\",\n",
    "    \"data.bin\",\n",
    "]\n",
    "\n",
    "# Define the function to be applied (can only take 1 argument)\n",
    "def is_allowed(x):\n",
    "    ALLOWED_EXTENSIONS = ('jpg','jpeg','gif','bmp','png')\n",
    "    return x.split(\".\")[1] in ALLOWED_EXTENSIONS\n",
    "\n",
    "forbidden, allowed = more_itertools.partition(is_allowed, files)\n",
    "\n",
    "print(\"Allowed:\", list(allowed))\n",
    "print(\"Forbidden:\", list(forbidden))"
   ]
  },
  {
   "cell_type": "code",
   "execution_count": 11,
   "metadata": {
    "ExecuteTime": {
     "end_time": "2020-10-07T19:57:12.722581Z",
     "start_time": "2020-10-07T19:57:12.710581Z"
    }
   },
   "outputs": [
    {
     "name": "stdout",
     "output_type": "stream",
     "text": [
      "[datetime.datetime(2015, 9, 15, 0, 0), datetime.datetime(2019, 9, 1, 0, 0), datetime.datetime(2020, 9, 2, 0, 0)]\n",
      "[datetime.datetime(2020, 9, 16, 0, 0), datetime.datetime(2020, 9, 17, 0, 0)]\n"
     ]
    }
   ],
   "source": [
    "# Example: split dates based on recency\n",
    "\n",
    "dates = [ \n",
    "    dt.datetime(2015, 9, 15),\n",
    "    dt.datetime(2020, 9, 16),\n",
    "    dt.datetime(2020, 9, 17),\n",
    "    dt.datetime(2019, 9, 1),\n",
    "    dt.datetime(2020, 9, 2),\n",
    "]\n",
    "\n",
    "def is_old(x):\n",
    "    return dt.datetime.now() - x < dt.timedelta(days=30)\n",
    "    \n",
    "old, recent = more_itertools.partition(is_old, dates)\n",
    "\n",
    "print(list(old))\n",
    "print(list(recent))"
   ]
  },
  {
   "cell_type": "markdown",
   "metadata": {},
   "source": [
    "### Split_at\n",
    "\n",
    "Splits iterable into lists based on predicate. \n",
    "\n",
    "This works like basic split for strings, but here we have iterable instead of string and callable instead of a delimiter."
   ]
  },
  {
   "cell_type": "code",
   "execution_count": 12,
   "metadata": {
    "ExecuteTime": {
     "end_time": "2020-10-07T19:57:12.734581Z",
     "start_time": "2020-10-07T19:57:12.725581Z"
    }
   },
   "outputs": [
    {
     "data": {
      "text/plain": [
       "[[0], [2], [4], [6], [8], []]"
      ]
     },
     "execution_count": 12,
     "metadata": {},
     "output_type": "execute_result"
    }
   ],
   "source": [
    "import more_itertools\n",
    "\n",
    "list(more_itertools.split_at(range(10), lambda n: n % 2 == 1))"
   ]
  },
  {
   "cell_type": "markdown",
   "metadata": {
    "ExecuteTime": {
     "end_time": "2020-10-06T06:14:41.867338Z",
     "start_time": "2020-10-06T06:14:41.860372Z"
    }
   },
   "source": [
    "### Bucket\n",
    "\n",
    "Splits an iterable into multiple bucket iterators based on some condition using a *key* function.<br>\n",
    "The whole bucket object is a generator that supports dict-like look-up."
   ]
  },
  {
   "cell_type": "code",
   "execution_count": 13,
   "metadata": {
    "ExecuteTime": {
     "end_time": "2020-10-07T19:57:12.745581Z",
     "start_time": "2020-10-07T19:57:12.737582Z"
    }
   },
   "outputs": [
    {
     "name": "stdout",
     "output_type": "stream",
     "text": [
      "['a', 'b', 'c']\n",
      "['a1', 'a2']\n"
     ]
    }
   ],
   "source": [
    "iterable = ['a1', 'b1', 'c1', 'a2', 'b2', 'c2', 'b3']\n",
    "s = more_itertools.bucket(iterable, key=lambda x: x[0])  # Bucket by 1st character\n",
    "\n",
    "print(sorted(list(s)))  # Get the keys\n",
    "print(list(s['a']))"
   ]
  },
  {
   "cell_type": "code",
   "execution_count": 14,
   "metadata": {
    "ExecuteTime": {
     "end_time": "2020-10-07T19:57:12.762581Z",
     "start_time": "2020-10-07T19:57:12.748581Z"
    }
   },
   "outputs": [
    {
     "data": {
      "text/plain": [
       "[Series([], dtype: object), Series([], dtype: object)]"
      ]
     },
     "execution_count": 14,
     "metadata": {},
     "output_type": "execute_result"
    }
   ],
   "source": [
    "ser_1 = pd.Series(dtype='object')\n",
    "ser_2 = pd.Series(dtype='object')\n",
    "arr_1 = np.ndarray(1)\n",
    "\n",
    "iters = [ser_1, ser_2, arr_1]\n",
    "\n",
    "iter_buckets = more_itertools.bucket(iters, key=lambda x: type(x))\n",
    "\n",
    "list(iter_buckets[pd.core.series.Series])"
   ]
  },
  {
   "cell_type": "markdown",
   "metadata": {},
   "source": [
    "### filter_except\n",
    "\n",
    "Extract valid instances from an iterable: more_itertools.filter_except(validator, iterable, * exceptions) yields the items from *iterable* for which the *validator* function does not raise one of the specified *exceptions*."
   ]
  },
  {
   "cell_type": "code",
   "execution_count": 15,
   "metadata": {
    "ExecuteTime": {
     "end_time": "2020-10-07T19:57:12.775580Z",
     "start_time": "2020-10-07T19:57:12.765583Z"
    }
   },
   "outputs": [
    {
     "data": {
      "text/plain": [
       "[1.5, 6, 11, 1.23e-07, 25]"
      ]
     },
     "execution_count": 15,
     "metadata": {},
     "output_type": "execute_result"
    }
   ],
   "source": [
    "# Validating type\n",
    "data = [1.5, 6, 'not-important', 11, 1.23E-7, 'remove-me', 25, 'trash']\n",
    "\n",
    "list(more_itertools.filter_except(float, data, TypeError, ValueError))"
   ]
  },
  {
   "cell_type": "markdown",
   "metadata": {
    "ExecuteTime": {
     "end_time": "2020-10-07T15:24:48.963269Z",
     "start_time": "2020-10-07T15:24:48.957302Z"
    }
   },
   "source": [
    "### map_except\n",
    "\n",
    "more_itertools.map_except(function, iterable, * exceptions) transforms each item from *iterable* with *function* and yield the\n",
    "result, unless *function* raises one of the specified *exceptions*."
   ]
  },
  {
   "cell_type": "code",
   "execution_count": 16,
   "metadata": {
    "ExecuteTime": {
     "end_time": "2020-10-07T19:57:12.787581Z",
     "start_time": "2020-10-07T19:57:12.778583Z"
    }
   },
   "outputs": [
    {
     "data": {
      "text/plain": [
       "[3.0, 12.0, 2.0, 2.46e-07, 50.0]"
      ]
     },
     "execution_count": 16,
     "metadata": {},
     "output_type": "execute_result"
    }
   ],
   "source": [
    "# \n",
    "data = [1.5, 6, 'not-important', '1', '1.23E-7', 'remove-me', '25', 'trash']\n",
    "\n",
    "list(more_itertools.map_except(lambda x: float(x)*2, data, TypeError, ValueError))"
   ]
  },
  {
   "cell_type": "markdown",
   "metadata": {},
   "source": [
    "### Consecutive_groups\n",
    "\n",
    "\n",
    "Yields groups of consecutive items (numbers, dates, letters, booleans or any other orderable objects) using :func:`itertools.groupby`. The *ordering* function determines whether two items are adjacent by returning their position.\n",
    "\n",
    "By default, the ordering function is the identity function."
   ]
  },
  {
   "cell_type": "code",
   "execution_count": 17,
   "metadata": {
    "ExecuteTime": {
     "end_time": "2020-10-07T19:57:12.799581Z",
     "start_time": "2020-10-07T19:57:12.790582Z"
    }
   },
   "outputs": [
    {
     "name": "stdout",
     "output_type": "stream",
     "text": [
      "[datetime.datetime(2020, 1, 15, 0, 0), datetime.datetime(2020, 1, 16, 0, 0), datetime.datetime(2020, 1, 17, 0, 0)]\n",
      "[datetime.datetime(2020, 2, 1, 0, 0), datetime.datetime(2020, 2, 2, 0, 0)]\n",
      "[datetime.datetime(2020, 2, 4, 0, 0)]\n"
     ]
    }
   ],
   "source": [
    "# Note: In this example, we have a list of dates. To be able to pass these dates to the \n",
    "# consecutive_groups function, we first have to convert them to ordinal numbers. \n",
    "# Then using list comprehension we iterate over groups of consecutive ordinal dates \n",
    "#created by consecutive_groups and convert them back to datetime using map and fromordinal functions.\n",
    "\n",
    "\n",
    "dates = [ \n",
    "    dt.datetime(2020, 1, 15),\n",
    "    dt.datetime(2020, 1, 16),\n",
    "    dt.datetime(2020, 1, 17),\n",
    "    dt.datetime(2020, 2, 1),\n",
    "    dt.datetime(2020, 2, 2),\n",
    "    dt.datetime(2020, 2, 4)\n",
    "]\n",
    "\n",
    "ordinal_dates = [d.toordinal() for d in dates]\n",
    "\n",
    "groups = [list(map(dt.datetime.fromordinal, group)) \n",
    "          for group in more_itertools.consecutive_groups(ordinal_dates)]\n",
    "\n",
    "for group in groups:\n",
    "    print(group)"
   ]
  },
  {
   "cell_type": "code",
   "execution_count": 18,
   "metadata": {
    "ExecuteTime": {
     "end_time": "2020-10-07T19:57:12.809580Z",
     "start_time": "2020-10-07T19:57:12.802580Z"
    }
   },
   "outputs": [
    {
     "name": "stdout",
     "output_type": "stream",
     "text": [
      "['a', 'b', 'c', 'd']\n",
      "['f', 'g']\n",
      "['i']\n",
      "['l', 'm', 'n', 'o', 'p']\n"
     ]
    }
   ],
   "source": [
    "# Example for letters where we pass the ordering function\n",
    "\n",
    "from string import ascii_lowercase\n",
    "\n",
    "iterable = 'abcdfgilmnop'\n",
    "ordering = ascii_lowercase.index\n",
    "for group in more_itertools.consecutive_groups(iterable, ordering):\n",
    "    print(list(group))"
   ]
  },
  {
   "cell_type": "markdown",
   "metadata": {
    "ExecuteTime": {
     "end_time": "2020-10-06T05:53:33.162960Z",
     "start_time": "2020-10-06T05:53:33.147331Z"
    }
   },
   "source": [
    "### Collapse\n",
    "\n",
    "Flattens an iterable with multiple levels of nesting (e.g., a list of lists of tuples) into non-iterable types. You can specify how many levels you want to flatten and which types to flatten only."
   ]
  },
  {
   "cell_type": "code",
   "execution_count": 19,
   "metadata": {
    "ExecuteTime": {
     "end_time": "2020-10-07T19:57:12.828582Z",
     "start_time": "2020-10-07T19:57:12.811579Z"
    }
   },
   "outputs": [
    {
     "name": "stdout",
     "output_type": "stream",
     "text": [
      "[40, 25, 10, 3, 17, 32, 30, 38, 78, 50, 93]\n",
      "[40, 25, [10, 3, 17], [32, 30, 38], 78, 50, 93]\n"
     ]
    }
   ],
   "source": [
    "# Example: Get all nodes of tree into flat list\n",
    "tree = [40, [25, [10, 3, 17], [32, 30, 38]], [78, 50, 93]]  # [Root, SUB_TREE_1, SUB_TREE_2, ..., SUB_TREE_n]\n",
    "\n",
    "print(list(more_itertools.collapse(tree)))\n",
    "print(list(more_itertools.collapse(tree, levels=1)))"
   ]
  },
  {
   "cell_type": "markdown",
   "metadata": {},
   "source": [
    "### MAP_REDUCE\n",
    "\n",
    "Return a dictionary that \n",
    "1. maps the items in an *iterable* to categories defined by *keyfunc*, \n",
    "2. transforms them with *valuefunc*, \n",
    "3. and then summarizes them by category with *reducefunc*.\n",
    "\n",
    "*valuefunc* defaults to the identity function if it is unspecified. If *reducefunc* is unspecified, no summarization takes place. (Omitting certain functions can be useful to produce intermediate steps in the MapReduce process, as shown below.)\n",
    "\n",
    "(Note: If you only need step 1 have a look at itertools.groupby())"
   ]
  },
  {
   "cell_type": "code",
   "execution_count": 20,
   "metadata": {
    "ExecuteTime": {
     "end_time": "2020-10-07T19:57:12.853580Z",
     "start_time": "2020-10-07T19:57:12.831583Z"
    }
   },
   "outputs": [
    {
     "name": "stdout",
     "output_type": "stream",
     "text": [
      "defaultdict(None,\n",
      "            {2: ['of', 'in'],\n",
      "             3: ['has', 'it,', 'and'],\n",
      "             4: ['This', 'both', 'ones', 'long', 'ones'],\n",
      "             5: ['words', 'short'],\n",
      "             7: ['various', 'lengths'],\n",
      "             8: ['sentence']})\n"
     ]
    }
   ],
   "source": [
    "data = 'This sentence has words of various lengths in it, both short ones and long ones'.split()\n",
    "\n",
    "keyfunc = lambda x: len(x)\n",
    "\n",
    "result = more_itertools.map_reduce(data, keyfunc)\n",
    "\n",
    "pprint(result)"
   ]
  },
  {
   "cell_type": "code",
   "execution_count": 21,
   "metadata": {
    "ExecuteTime": {
     "end_time": "2020-10-07T19:57:12.888582Z",
     "start_time": "2020-10-07T19:57:12.855580Z"
    }
   },
   "outputs": [
    {
     "name": "stdout",
     "output_type": "stream",
     "text": [
      "defaultdict(None,\n",
      "            {2: [1, 1],\n",
      "             3: [1, 1, 1],\n",
      "             4: [1, 1, 1, 1, 1],\n",
      "             5: [1, 1],\n",
      "             7: [1, 1],\n",
      "             8: [1]})\n"
     ]
    }
   ],
   "source": [
    "valuefunc = lambda x: 1\n",
    "\n",
    "result = more_itertools.map_reduce(data, keyfunc, valuefunc)\n",
    "\n",
    "pprint(result)"
   ]
  },
  {
   "cell_type": "code",
   "execution_count": 22,
   "metadata": {
    "ExecuteTime": {
     "end_time": "2020-10-07T19:57:12.903579Z",
     "start_time": "2020-10-07T19:57:12.890582Z"
    }
   },
   "outputs": [
    {
     "name": "stdout",
     "output_type": "stream",
     "text": [
      "defaultdict(None, {4: 5, 8: 1, 3: 3, 5: 2, 2: 2, 7: 2})\n"
     ]
    }
   ],
   "source": [
    "reducefunc = sum\n",
    "\n",
    "result = more_itertools.map_reduce(data, keyfunc, valuefunc, reducefunc)\n",
    "\n",
    "pprint(result)"
   ]
  },
  {
   "cell_type": "markdown",
   "metadata": {},
   "source": [
    "### numeric_range\n",
    "\n",
    "An extension of the built-in ``range()`` function whose arguments can be any orderable numeric type. (Same functionality as range with start, stop, step arguments)"
   ]
  },
  {
   "cell_type": "code",
   "execution_count": 23,
   "metadata": {
    "ExecuteTime": {
     "end_time": "2020-10-07T19:57:12.914583Z",
     "start_time": "2020-10-07T19:57:12.906580Z"
    }
   },
   "outputs": [
    {
     "data": {
      "text/plain": [
       "[Decimal('1.7'),\n",
       " Decimal('2.0'),\n",
       " Decimal('2.3'),\n",
       " Decimal('2.6'),\n",
       " Decimal('2.9'),\n",
       " Decimal('3.2')]"
      ]
     },
     "execution_count": 23,
     "metadata": {},
     "output_type": "execute_result"
    }
   ],
   "source": [
    "# Example with Decimals\n",
    "from decimal import Decimal\n",
    "\n",
    "list(more_itertools.numeric_range(Decimal('1.7'), Decimal('3.5'), Decimal('0.3')))"
   ]
  },
  {
   "cell_type": "code",
   "execution_count": 24,
   "metadata": {
    "ExecuteTime": {
     "end_time": "2020-10-07T19:57:12.932594Z",
     "start_time": "2020-10-07T19:57:12.918581Z"
    }
   },
   "outputs": [
    {
     "data": {
      "text/plain": [
       "[datetime.datetime(2020, 2, 10, 0, 0),\n",
       " datetime.datetime(2020, 2, 12, 0, 0),\n",
       " datetime.datetime(2020, 2, 14, 0, 0)]"
      ]
     },
     "execution_count": 24,
     "metadata": {},
     "output_type": "execute_result"
    }
   ],
   "source": [
    "# Example with dates\n",
    "start = dt.datetime(2020, 2, 10)\n",
    "stop = dt.datetime(2020, 2, 15)\n",
    "step = dt.timedelta(days=2)\n",
    "list(more_itertools.numeric_range(start, stop, step))"
   ]
  },
  {
   "cell_type": "markdown",
   "metadata": {
    "ExecuteTime": {
     "end_time": "2020-10-07T15:05:30.028880Z",
     "start_time": "2020-10-07T15:05:30.025877Z"
    }
   },
   "source": [
    "### Some more ...\n",
    "\n",
    "- sort_together() - _sort values in iterables together like in a table_\n",
    "- make_decorator() - _use other m_i functions as decorators\n",
    "- unique_to_each() - _similar to set, can be useful when analyzing graphs_\n",
    "- seekable() - _seek through iterators_\n",
    "- side_effects() - _change vars outside of functions, e.g. global counters_\n",
    "\n",
    "see [here](https://towardsdatascience.com/tour-of-python-itertools-2af84db18a5e)"
   ]
  },
  {
   "cell_type": "markdown",
   "metadata": {},
   "source": [
    "---"
   ]
  }
 ],
 "metadata": {
  "hide_input": false,
  "kernelspec": {
   "display_name": "Python 3",
   "language": "python",
   "name": "python3"
  },
  "language_info": {
   "codemirror_mode": {
    "name": "ipython",
    "version": 3
   },
   "file_extension": ".py",
   "mimetype": "text/x-python",
   "name": "python",
   "nbconvert_exporter": "python",
   "pygments_lexer": "ipython3",
   "version": "3.8.3"
  },
  "toc": {
   "base_numbering": 1,
   "nav_menu": {},
   "number_sections": true,
   "sideBar": false,
   "skip_h1_title": true,
   "title_cell": "Table of Contents",
   "title_sidebar": "Contents",
   "toc_cell": true,
   "toc_position": {},
   "toc_section_display": true,
   "toc_window_display": false
  }
 },
 "nbformat": 4,
 "nbformat_minor": 4
}
