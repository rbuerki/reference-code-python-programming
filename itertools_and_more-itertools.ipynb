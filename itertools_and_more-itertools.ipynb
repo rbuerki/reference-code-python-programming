{
 "cells": [
  {
   "cell_type": "markdown",
   "metadata": {
    "toc": true
   },
   "source": [
    "<h1>Table of Contents<span class=\"tocSkip\"></span></h1>\n",
    "<div class=\"toc\"><ul class=\"toc-item\"><li><span><a href=\"#Itertools\" data-toc-modified-id=\"Itertools-1\"><span class=\"toc-item-num\">1&nbsp;&nbsp;</span>Itertools</a></span><ul class=\"toc-item\"><li><span><a href=\"#Accumulate--(vs.--functools.reduce)\" data-toc-modified-id=\"Accumulate--(vs.--functools.reduce)-1.1\"><span class=\"toc-item-num\">1.1&nbsp;&nbsp;</span>Accumulate  (vs.  functools.reduce)</a></span></li><li><span><a href=\"#Compress\" data-toc-modified-id=\"Compress-1.2\"><span class=\"toc-item-num\">1.2&nbsp;&nbsp;</span>Compress</a></span></li></ul></li></ul></div>"
   ]
  },
  {
   "cell_type": "code",
   "execution_count": 2,
   "metadata": {
    "ExecuteTime": {
     "end_time": "2020-10-05T06:10:16.986851Z",
     "start_time": "2020-10-05T06:10:16.720857Z"
    }
   },
   "outputs": [],
   "source": [
    "import itertools\n",
    "import more_itertools\n",
    "import sys\n",
    "\n",
    "import numpy as np"
   ]
  },
  {
   "cell_type": "code",
   "execution_count": 3,
   "metadata": {
    "ExecuteTime": {
     "end_time": "2020-10-05T06:10:18.084849Z",
     "start_time": "2020-10-05T06:10:18.076849Z"
    }
   },
   "outputs": [
    {
     "name": "stdout",
     "output_type": "stream",
     "text": [
      "C:\\Users\\r2d4\\miniconda3\\envs\\py3\\python.exe\n",
      "3.8.3 (default, May 19 2020, 06:50:17) [MSC v.1916 64 bit (AMD64)]\n"
     ]
    }
   ],
   "source": [
    "print(sys.executable)\n",
    "print(sys.version)"
   ]
  },
  {
   "cell_type": "markdown",
   "metadata": {},
   "source": [
    "## Itertools"
   ]
  },
  {
   "cell_type": "markdown",
   "metadata": {
    "ExecuteTime": {
     "end_time": "2020-10-05T06:20:44.775414Z",
     "start_time": "2020-10-05T06:20:44.768417Z"
    }
   },
   "source": [
    "### Accumulate  (vs.  functools.reduce)\n",
    "\n",
    "Accumulates the results of some (binary) function, e.g. max or factorial. Returns an iterator with all intermediary results."
   ]
  },
  {
   "cell_type": "code",
   "execution_count": 7,
   "metadata": {
    "ExecuteTime": {
     "end_time": "2020-10-05T06:19:15.051902Z",
     "start_time": "2020-10-05T06:19:15.044906Z"
    }
   },
   "outputs": [
    {
     "data": {
      "text/plain": [
       "[3, 4, 4, 4, 5, 6, 9, 9, 9]"
      ]
     },
     "execution_count": 7,
     "metadata": {},
     "output_type": "execute_result"
    }
   ],
   "source": [
    "data = [3, 4, 1, 3, 5, 6, 9, 0, 1]\n",
    "\n",
    "# Calculate the running max\n",
    "result = itertools.accumulate(data, max)  \n",
    "\n",
    "list(result)  # Returns an iterator"
   ]
  },
  {
   "cell_type": "code",
   "execution_count": 20,
   "metadata": {
    "ExecuteTime": {
     "end_time": "2020-10-05T06:39:29.041415Z",
     "start_time": "2020-10-05T06:39:29.034418Z"
    }
   },
   "outputs": [
    {
     "name": "stdout",
     "output_type": "stream",
     "text": [
      "[3, 12, 12, 36, 180, 1080, 9720, 0, 0]\n",
      "[1000, 997, 993, 992, 989, 984, 978, 969, 969, 968]\n"
     ]
    }
   ],
   "source": [
    "# Some more examples using operator (addition is default, if no function is passed)\n",
    "\n",
    "import operator\n",
    "\n",
    "print(list(itertools.accumulate(data, operator.mul)))\n",
    "print(list(itertools.accumulate(data, operator.sub, initial=1000)))"
   ]
  },
  {
   "cell_type": "markdown",
   "metadata": {},
   "source": [
    "Attention: If you don’t care about intermediate results, use `functools.reduce` , which keeps only the final value and is more memory efficient:"
   ]
  },
  {
   "cell_type": "code",
   "execution_count": 13,
   "metadata": {
    "ExecuteTime": {
     "end_time": "2020-10-05T06:24:31.528684Z",
     "start_time": "2020-10-05T06:24:31.521684Z"
    }
   },
   "outputs": [
    {
     "data": {
      "text/plain": [
       "9"
      ]
     },
     "execution_count": 13,
     "metadata": {},
     "output_type": "execute_result"
    }
   ],
   "source": [
    "from functools import reduce\n",
    "\n",
    "result = reduce(max, data)\n",
    "\n",
    "result"
   ]
  },
  {
   "cell_type": "markdown",
   "metadata": {
    "ExecuteTime": {
     "end_time": "2020-10-05T06:43:26.347241Z",
     "start_time": "2020-10-05T06:43:26.341243Z"
    }
   },
   "source": [
    "<img src=\"diff_between_red_acc.jpg\" width=\"50%\" />"
   ]
  },
  {
   "cell_type": "markdown",
   "metadata": {
    "ExecuteTime": {
     "end_time": "2020-10-05T06:10:19.936000Z",
     "start_time": "2020-10-05T06:10:19.932004Z"
    }
   },
   "source": [
    "### Compress\n",
    "\n",
    "One of many options to filtering sequences: \n",
    "\n",
    "`compress` takes an _iterable_ and a _boolean selector_ and returns an iterator containing items of the iterable where the corresponding element in the selector is True."
   ]
  },
  {
   "cell_type": "code",
   "execution_count": 6,
   "metadata": {
    "ExecuteTime": {
     "end_time": "2020-10-05T06:18:17.902411Z",
     "start_time": "2020-10-05T06:18:17.890412Z"
    }
   },
   "outputs": [
    {
     "data": {
      "text/plain": [
       "['2020-02-04', '2020-01-24', '2020-02-10', '2020-02-15']"
      ]
     },
     "execution_count": 6,
     "metadata": {},
     "output_type": "execute_result"
    }
   ],
   "source": [
    "dates = [\n",
    "    \"2020-01-01\",\n",
    "    \"2020-02-04\",\n",
    "    \"2020-02-01\",\n",
    "    \"2020-01-24\",\n",
    "    \"2020-01-08\",\n",
    "    \"2020-02-10\",\n",
    "    \"2020-02-15\",\n",
    "    \"2020-02-11\",\n",
    "]\n",
    "\n",
    "counts = [1, 4, 3, 8, 0, 7, 9, 2]\n",
    "\n",
    "bools = [n > 3 for n in counts]\n",
    "result = itertools.compress(dates, bools)\n",
    "\n",
    "list(result)  # Returns an iterator"
   ]
  },
  {
   "cell_type": "code",
   "execution_count": null,
   "metadata": {},
   "outputs": [],
   "source": []
  }
 ],
 "metadata": {
  "hide_input": false,
  "kernelspec": {
   "display_name": "Python 3",
   "language": "python",
   "name": "python3"
  },
  "language_info": {
   "codemirror_mode": {
    "name": "ipython",
    "version": 3
   },
   "file_extension": ".py",
   "mimetype": "text/x-python",
   "name": "python",
   "nbconvert_exporter": "python",
   "pygments_lexer": "ipython3",
   "version": "3.8.3"
  },
  "toc": {
   "base_numbering": 1,
   "nav_menu": {},
   "number_sections": true,
   "sideBar": false,
   "skip_h1_title": true,
   "title_cell": "Table of Contents",
   "title_sidebar": "Contents",
   "toc_cell": true,
   "toc_position": {},
   "toc_section_display": true,
   "toc_window_display": false
  }
 },
 "nbformat": 4,
 "nbformat_minor": 4
}
