{
 "cells": [
  {
   "cell_type": "markdown",
   "metadata": {
    "toc": true
   },
   "source": [
    "<h1>Table of Contents<span class=\"tocSkip\"></span></h1>\n",
    "<div class=\"toc\"><ul class=\"toc-item\"><li><span><a href=\"#Itertools\" data-toc-modified-id=\"Itertools-1\"><span class=\"toc-item-num\">1&nbsp;&nbsp;</span>Itertools</a></span><ul class=\"toc-item\"><li><span><a href=\"#Accumulate--(vs.--functools.reduce)\" data-toc-modified-id=\"Accumulate--(vs.--functools.reduce)-1.1\"><span class=\"toc-item-num\">1.1&nbsp;&nbsp;</span>Accumulate  (vs.  functools.reduce)</a></span></li><li><span><a href=\"#Compress\" data-toc-modified-id=\"Compress-1.2\"><span class=\"toc-item-num\">1.2&nbsp;&nbsp;</span>Compress</a></span></li><li><span><a href=\"#Cycle\" data-toc-modified-id=\"Cycle-1.3\"><span class=\"toc-item-num\">1.3&nbsp;&nbsp;</span>Cycle</a></span></li></ul></li><li><span><a href=\"#more_itertools\" data-toc-modified-id=\"more_itertools-2\"><span class=\"toc-item-num\">2&nbsp;&nbsp;</span>more_itertools</a></span><ul class=\"toc-item\"><li><span><a href=\"#Divide\" data-toc-modified-id=\"Divide-2.1\"><span class=\"toc-item-num\">2.1&nbsp;&nbsp;</span>Divide</a></span></li><li><span><a href=\"#Partition\" data-toc-modified-id=\"Partition-2.2\"><span class=\"toc-item-num\">2.2&nbsp;&nbsp;</span>Partition</a></span></li><li><span><a href=\"#Split_at\" data-toc-modified-id=\"Split_at-2.3\"><span class=\"toc-item-num\">2.3&nbsp;&nbsp;</span>Split_at</a></span></li><li><span><a href=\"#Bucket\" data-toc-modified-id=\"Bucket-2.4\"><span class=\"toc-item-num\">2.4&nbsp;&nbsp;</span>Bucket</a></span></li><li><span><a href=\"#Consecutive_groups\" data-toc-modified-id=\"Consecutive_groups-2.5\"><span class=\"toc-item-num\">2.5&nbsp;&nbsp;</span>Consecutive_groups</a></span></li><li><span><a href=\"#Collapse\" data-toc-modified-id=\"Collapse-2.6\"><span class=\"toc-item-num\">2.6&nbsp;&nbsp;</span>Collapse</a></span></li><li><span><a href=\"#MAP_REDUCE\" data-toc-modified-id=\"MAP_REDUCE-2.7\"><span class=\"toc-item-num\">2.7&nbsp;&nbsp;</span>MAP_REDUCE</a></span></li></ul></li></ul></div>"
   ]
  },
  {
   "cell_type": "code",
   "execution_count": 21,
   "metadata": {
    "ExecuteTime": {
     "end_time": "2020-10-06T21:18:41.922157Z",
     "start_time": "2020-10-06T21:18:41.917075Z"
    }
   },
   "outputs": [],
   "source": [
    "import datetime as dt\n",
    "import itertools\n",
    "import more_itertools\n",
    "import sys\n",
    "import time\n",
    "from pathlib import Path\n",
    "from pprint import pprint\n",
    "\n",
    "import numpy as np\n",
    "import pandas as pd"
   ]
  },
  {
   "cell_type": "code",
   "execution_count": 2,
   "metadata": {
    "ExecuteTime": {
     "end_time": "2020-10-06T21:17:53.802212Z",
     "start_time": "2020-10-06T21:17:53.795212Z"
    }
   },
   "outputs": [
    {
     "name": "stdout",
     "output_type": "stream",
     "text": [
      "C:\\Users\\r2d4\\miniconda3\\envs\\py3\\python.exe\n",
      "3.8.3 (default, May 19 2020, 06:50:17) [MSC v.1916 64 bit (AMD64)]\n"
     ]
    }
   ],
   "source": [
    "print(sys.executable)\n",
    "print(sys.version)"
   ]
  },
  {
   "cell_type": "markdown",
   "metadata": {},
   "source": [
    "## Itertools"
   ]
  },
  {
   "cell_type": "markdown",
   "metadata": {
    "ExecuteTime": {
     "end_time": "2020-10-05T06:20:44.775414Z",
     "start_time": "2020-10-05T06:20:44.768417Z"
    }
   },
   "source": [
    "### Accumulate  (vs.  functools.reduce)\n",
    "\n",
    "Accumulates the results of some (binary) function, e.g. max or factorial. Returns an iterator with all intermediary results."
   ]
  },
  {
   "cell_type": "code",
   "execution_count": 3,
   "metadata": {
    "ExecuteTime": {
     "end_time": "2020-10-06T21:17:53.822211Z",
     "start_time": "2020-10-06T21:17:53.805212Z"
    }
   },
   "outputs": [
    {
     "data": {
      "text/plain": [
       "[3, 4, 4, 4, 5, 6, 9, 9, 9]"
      ]
     },
     "execution_count": 3,
     "metadata": {},
     "output_type": "execute_result"
    }
   ],
   "source": [
    "data = [3, 4, 1, 3, 5, 6, 9, 0, 1]\n",
    "\n",
    "# Calculate the running max\n",
    "result = itertools.accumulate(data, max)  \n",
    "\n",
    "list(result)  # Returns an iterator"
   ]
  },
  {
   "cell_type": "code",
   "execution_count": 4,
   "metadata": {
    "ExecuteTime": {
     "end_time": "2020-10-06T21:17:53.835226Z",
     "start_time": "2020-10-06T21:17:53.824213Z"
    }
   },
   "outputs": [
    {
     "name": "stdout",
     "output_type": "stream",
     "text": [
      "[3, 12, 12, 36, 180, 1080, 9720, 0, 0]\n",
      "[1000, 997, 993, 992, 989, 984, 978, 969, 969, 968]\n"
     ]
    }
   ],
   "source": [
    "# Some more examples using operator (addition is default, if no function is passed)\n",
    "\n",
    "import operator\n",
    "\n",
    "print(list(itertools.accumulate(data, operator.mul)))\n",
    "print(list(itertools.accumulate(data, operator.sub, initial=1000)))"
   ]
  },
  {
   "cell_type": "markdown",
   "metadata": {},
   "source": [
    "Attention: If you don’t care about intermediate results, use `functools.reduce` , which keeps only the final value and is more memory efficient:"
   ]
  },
  {
   "cell_type": "code",
   "execution_count": 5,
   "metadata": {
    "ExecuteTime": {
     "end_time": "2020-10-06T21:17:53.846213Z",
     "start_time": "2020-10-06T21:17:53.839215Z"
    }
   },
   "outputs": [
    {
     "data": {
      "text/plain": [
       "9"
      ]
     },
     "execution_count": 5,
     "metadata": {},
     "output_type": "execute_result"
    }
   ],
   "source": [
    "from functools import reduce\n",
    "\n",
    "result = reduce(max, data)\n",
    "\n",
    "result"
   ]
  },
  {
   "cell_type": "markdown",
   "metadata": {
    "ExecuteTime": {
     "end_time": "2020-10-05T06:43:26.347241Z",
     "start_time": "2020-10-05T06:43:26.341243Z"
    }
   },
   "source": [
    "<img src=\"diff_between_red_acc.jpg\" width=\"50%\" />"
   ]
  },
  {
   "cell_type": "markdown",
   "metadata": {
    "ExecuteTime": {
     "end_time": "2020-10-05T06:10:19.936000Z",
     "start_time": "2020-10-05T06:10:19.932004Z"
    }
   },
   "source": [
    "### Compress\n",
    "\n",
    "One of many options to filtering sequences: `compress` takes an _iterable_ and a _boolean selector_ and returns an iterator containing items of the iterable where the corresponding element in the selector is True.\n",
    "\n",
    "(see the more advanced `more_itertools.partition()` if you want to pass a callable.)"
   ]
  },
  {
   "cell_type": "code",
   "execution_count": 6,
   "metadata": {
    "ExecuteTime": {
     "end_time": "2020-10-06T21:17:53.865214Z",
     "start_time": "2020-10-06T21:17:53.852247Z"
    }
   },
   "outputs": [
    {
     "data": {
      "text/plain": [
       "['2020-02-04', '2020-01-24', '2020-02-10', '2020-02-15']"
      ]
     },
     "execution_count": 6,
     "metadata": {},
     "output_type": "execute_result"
    }
   ],
   "source": [
    "dates = [\n",
    "    \"2020-01-01\",\n",
    "    \"2020-02-04\",\n",
    "    \"2020-02-01\",\n",
    "    \"2020-01-24\",\n",
    "    \"2020-01-08\",\n",
    "    \"2020-02-10\",\n",
    "    \"2020-02-15\",\n",
    "    \"2020-02-11\",\n",
    "]\n",
    "\n",
    "counts = [1, 4, 3, 8, 0, 7, 9, 2]\n",
    "\n",
    "bools = [n > 3 for n in counts]\n",
    "result = itertools.compress(dates, bools)\n",
    "\n",
    "list(result)  # Returns an iterator"
   ]
  },
  {
   "cell_type": "markdown",
   "metadata": {},
   "source": [
    "### Cycle\n",
    "\n",
    "This function takes iterable and creates infinite cycle from it. "
   ]
  },
  {
   "cell_type": "code",
   "execution_count": 7,
   "metadata": {
    "ExecuteTime": {
     "end_time": "2020-10-06T21:17:53.876212Z",
     "start_time": "2020-10-06T21:17:53.871214Z"
    }
   },
   "outputs": [
    {
     "name": "stdout",
     "output_type": "stream",
     "text": [
      "Raph\n",
      "Esra\n",
      "Raph\n"
     ]
    }
   ],
   "source": [
    "players = [\"Raph\", \"Esra\"]\n",
    "\n",
    "next_player = itertools.cycle(players).__next__\n",
    "\n",
    "for i in range(3):\n",
    "    print(next_player())"
   ]
  },
  {
   "cell_type": "code",
   "execution_count": 8,
   "metadata": {
    "ExecuteTime": {
     "end_time": "2020-10-06T21:17:53.888214Z",
     "start_time": "2020-10-06T21:17:53.879211Z"
    }
   },
   "outputs": [],
   "source": [
    "# # Example: Infinite Spinner\n",
    "# for c in itertools.cycle(\"/-\\|\"):\n",
    "#     print(c, end=\"\\r\")\n",
    "#     time.sleep(0.2)"
   ]
  },
  {
   "cell_type": "markdown",
   "metadata": {},
   "source": [
    "## more_itertools"
   ]
  },
  {
   "cell_type": "markdown",
   "metadata": {
    "ExecuteTime": {
     "end_time": "2020-10-05T20:06:15.714373Z",
     "start_time": "2020-10-05T20:06:15.707377Z"
    }
   },
   "source": [
    "### Divide\n",
    "\n",
    "Divide the elements from *iterable* into *n* parts, maintaining order. If the length of *iterable* is not evenly divisible by *n*, then the\n",
    "length of the returned iterables will not be identical (see example below.)\n",
    "\n",
    "Note: This function will exhaust the iterable before returning and may require significant storage. If order is not important, see `distribute`, which does not first pull the iterable into memory."
   ]
  },
  {
   "cell_type": "code",
   "execution_count": 9,
   "metadata": {
    "ExecuteTime": {
     "end_time": "2020-10-06T21:17:53.909213Z",
     "start_time": "2020-10-06T21:17:53.891220Z"
    }
   },
   "outputs": [
    {
     "data": {
      "text/plain": [
       "[['first', 'second', 'third'], ['fourth', 'fifth'], ['sixth', 'seventh']]"
      ]
     },
     "execution_count": 9,
     "metadata": {},
     "output_type": "execute_result"
    }
   ],
   "source": [
    "data = [\"first\", \"second\", \"third\", \"fourth\", \"fifth\", \"sixth\", \"seventh\"]\n",
    "\n",
    "[list(l) for l in more_itertools.divide(3, data)]"
   ]
  },
  {
   "cell_type": "markdown",
   "metadata": {},
   "source": [
    "### Partition\n",
    "\n",
    "This function is also dividing an iterable with a boolean selector (see `itertools.compress`), this time however, using a callable.\n",
    "\n",
    "Returns a 2-tuple of iterables derived from the input iterable.\n",
    "The first yields the items that have ``pred(item) == False``.\n",
    "The second yields the items that have ``pred(item) == True``."
   ]
  },
  {
   "cell_type": "code",
   "execution_count": 10,
   "metadata": {
    "ExecuteTime": {
     "end_time": "2020-10-06T21:17:53.922212Z",
     "start_time": "2020-10-06T21:17:53.912214Z"
    }
   },
   "outputs": [
    {
     "name": "stdout",
     "output_type": "stream",
     "text": [
      "Allowed: ['foo.jpg', 'baz.gif']\n",
      "Forbidden: ['bar.exe', 'text.txt', 'data.bin']\n"
     ]
    }
   ],
   "source": [
    "# Example: Split based on file extension\n",
    "\n",
    "files = [\n",
    "    \"foo.jpg\",\n",
    "    \"bar.exe\",\n",
    "    \"baz.gif\",\n",
    "    \"text.txt\",\n",
    "    \"data.bin\",\n",
    "]\n",
    "\n",
    "# Define the function to be applied (can only take 1 argument)\n",
    "def is_allowed(x):\n",
    "    ALLOWED_EXTENSIONS = ('jpg','jpeg','gif','bmp','png')\n",
    "    return x.split(\".\")[1] in ALLOWED_EXTENSIONS\n",
    "\n",
    "forbidden, allowed = more_itertools.partition(is_allowed, files)\n",
    "\n",
    "print(\"Allowed:\", list(allowed))\n",
    "print(\"Forbidden:\", list(forbidden))"
   ]
  },
  {
   "cell_type": "code",
   "execution_count": 11,
   "metadata": {
    "ExecuteTime": {
     "end_time": "2020-10-06T21:17:53.940212Z",
     "start_time": "2020-10-06T21:17:53.927214Z"
    }
   },
   "outputs": [
    {
     "name": "stdout",
     "output_type": "stream",
     "text": [
      "[datetime.datetime(2015, 9, 15, 0, 0), datetime.datetime(2019, 9, 1, 0, 0), datetime.datetime(2020, 9, 2, 0, 0)]\n",
      "[datetime.datetime(2020, 9, 16, 0, 0), datetime.datetime(2020, 9, 17, 0, 0)]\n"
     ]
    }
   ],
   "source": [
    "# Example: split dates based on recency\n",
    "\n",
    "dates = [ \n",
    "    dt.datetime(2015, 9, 15),\n",
    "    dt.datetime(2020, 9, 16),\n",
    "    dt.datetime(2020, 9, 17),\n",
    "    dt.datetime(2019, 9, 1),\n",
    "    dt.datetime(2020, 9, 2),\n",
    "]\n",
    "\n",
    "def is_old(x):\n",
    "    return dt.datetime.now() - x < dt.timedelta(days=30)\n",
    "    \n",
    "old, recent = more_itertools.partition(is_old, dates)\n",
    "\n",
    "print(list(old))\n",
    "print(list(recent))"
   ]
  },
  {
   "cell_type": "markdown",
   "metadata": {},
   "source": [
    "### Split_at\n",
    "\n",
    "Splits iterable into lists based on predicate. \n",
    "\n",
    "This works like basic split for strings, but here we have iterable instead of string and callable instead of a delimiter."
   ]
  },
  {
   "cell_type": "code",
   "execution_count": 12,
   "metadata": {
    "ExecuteTime": {
     "end_time": "2020-10-06T21:17:53.956214Z",
     "start_time": "2020-10-06T21:17:53.944215Z"
    }
   },
   "outputs": [
    {
     "data": {
      "text/plain": [
       "[[0], [2], [4], [6], [8], []]"
      ]
     },
     "execution_count": 12,
     "metadata": {},
     "output_type": "execute_result"
    }
   ],
   "source": [
    "import more_itertools\n",
    "\n",
    "list(more_itertools.split_at(range(10), lambda n: n % 2 == 1))"
   ]
  },
  {
   "cell_type": "markdown",
   "metadata": {
    "ExecuteTime": {
     "end_time": "2020-10-06T06:14:41.867338Z",
     "start_time": "2020-10-06T06:14:41.860372Z"
    }
   },
   "source": [
    "### Bucket\n",
    "\n",
    "Splits an iterable into multiple bucket iterators based on some condition using a *key* function.<br>\n",
    "The whole bucket object is a generator that supports dict-like look-up."
   ]
  },
  {
   "cell_type": "code",
   "execution_count": 13,
   "metadata": {
    "ExecuteTime": {
     "end_time": "2020-10-06T21:17:53.972217Z",
     "start_time": "2020-10-06T21:17:53.959217Z"
    }
   },
   "outputs": [
    {
     "name": "stdout",
     "output_type": "stream",
     "text": [
      "['a', 'b', 'c']\n",
      "['a1', 'a2']\n"
     ]
    }
   ],
   "source": [
    "iterable = ['a1', 'b1', 'c1', 'a2', 'b2', 'c2', 'b3']\n",
    "s = more_itertools.bucket(iterable, key=lambda x: x[0])  # Bucket by 1st character\n",
    "\n",
    "print(sorted(list(s)))  # Get the keys\n",
    "print(list(s['a']))"
   ]
  },
  {
   "cell_type": "code",
   "execution_count": 14,
   "metadata": {
    "ExecuteTime": {
     "end_time": "2020-10-06T21:17:53.993213Z",
     "start_time": "2020-10-06T21:17:53.975212Z"
    }
   },
   "outputs": [
    {
     "data": {
      "text/plain": [
       "[Series([], dtype: object), Series([], dtype: object)]"
      ]
     },
     "execution_count": 14,
     "metadata": {},
     "output_type": "execute_result"
    }
   ],
   "source": [
    "ser_1 = pd.Series(dtype='object')\n",
    "ser_2 = pd.Series(dtype='object')\n",
    "arr_1 = np.ndarray(1)\n",
    "\n",
    "iters = [ser_1, ser_2, arr_1]\n",
    "\n",
    "iter_buckets = more_itertools.bucket(iters, key=lambda x: type(x))\n",
    "\n",
    "list(iter_buckets[pd.core.series.Series])"
   ]
  },
  {
   "cell_type": "markdown",
   "metadata": {},
   "source": [
    "### Consecutive_groups\n",
    "\n",
    "\n",
    "Yields groups of consecutive items (numbers, dates, letters, booleans or any other orderable objects) using :func:`itertools.groupby`. The *ordering* function determines whether two items are adjacent by returning their position.\n",
    "\n",
    "By default, the ordering function is the identity function."
   ]
  },
  {
   "cell_type": "code",
   "execution_count": 15,
   "metadata": {
    "ExecuteTime": {
     "end_time": "2020-10-06T21:17:54.013212Z",
     "start_time": "2020-10-06T21:17:53.997215Z"
    }
   },
   "outputs": [
    {
     "name": "stdout",
     "output_type": "stream",
     "text": [
      "[datetime.datetime(2020, 1, 15, 0, 0), datetime.datetime(2020, 1, 16, 0, 0), datetime.datetime(2020, 1, 17, 0, 0)]\n",
      "[datetime.datetime(2020, 2, 1, 0, 0), datetime.datetime(2020, 2, 2, 0, 0)]\n",
      "[datetime.datetime(2020, 2, 4, 0, 0)]\n"
     ]
    }
   ],
   "source": [
    "# Note: In this example, we have a list of dates. To be able to pass these dates to the \n",
    "# consecutive_groups function, we first have to convert them to ordinal numbers. \n",
    "# Then using list comprehension we iterate over groups of consecutive ordinal dates \n",
    "#created by consecutive_groups and convert them back to datetime using map and fromordinal functions.\n",
    "\n",
    "\n",
    "dates = [ \n",
    "    dt.datetime(2020, 1, 15),\n",
    "    dt.datetime(2020, 1, 16),\n",
    "    dt.datetime(2020, 1, 17),\n",
    "    dt.datetime(2020, 2, 1),\n",
    "    dt.datetime(2020, 2, 2),\n",
    "    dt.datetime(2020, 2, 4)\n",
    "]\n",
    "\n",
    "ordinal_dates = [d.toordinal() for d in dates]\n",
    "\n",
    "groups = [list(map(dt.datetime.fromordinal, group)) \n",
    "          for group in more_itertools.consecutive_groups(ordinal_dates)]\n",
    "\n",
    "for group in groups:\n",
    "    print(group)"
   ]
  },
  {
   "cell_type": "code",
   "execution_count": 16,
   "metadata": {
    "ExecuteTime": {
     "end_time": "2020-10-06T21:17:54.026213Z",
     "start_time": "2020-10-06T21:17:54.019228Z"
    }
   },
   "outputs": [
    {
     "name": "stdout",
     "output_type": "stream",
     "text": [
      "['a', 'b', 'c', 'd']\n",
      "['f', 'g']\n",
      "['i']\n",
      "['l', 'm', 'n', 'o', 'p']\n"
     ]
    }
   ],
   "source": [
    "# Example for letters where we pass the ordering function\n",
    "\n",
    "from string import ascii_lowercase\n",
    "\n",
    "iterable = 'abcdfgilmnop'\n",
    "ordering = ascii_lowercase.index\n",
    "for group in more_itertools.consecutive_groups(iterable, ordering):\n",
    "    print(list(group))"
   ]
  },
  {
   "cell_type": "markdown",
   "metadata": {
    "ExecuteTime": {
     "end_time": "2020-10-06T05:53:33.162960Z",
     "start_time": "2020-10-06T05:53:33.147331Z"
    }
   },
   "source": [
    "### Collapse\n",
    "\n",
    "Flattens an iterable with multiple levels of nesting (e.g., a list of lists of tuples) into non-iterable types. You can specify how many levels you want to flatten and which types to flatten only."
   ]
  },
  {
   "cell_type": "code",
   "execution_count": 17,
   "metadata": {
    "ExecuteTime": {
     "end_time": "2020-10-06T21:17:54.039214Z",
     "start_time": "2020-10-06T21:17:54.029215Z"
    }
   },
   "outputs": [
    {
     "name": "stdout",
     "output_type": "stream",
     "text": [
      "[40, 25, 10, 3, 17, 32, 30, 38, 78, 50, 93]\n",
      "[40, 25, [10, 3, 17], [32, 30, 38], 78, 50, 93]\n"
     ]
    }
   ],
   "source": [
    "# Example: Get all nodes of tree into flat list\n",
    "tree = [40, [25, [10, 3, 17], [32, 30, 38]], [78, 50, 93]]  # [Root, SUB_TREE_1, SUB_TREE_2, ..., SUB_TREE_n]\n",
    "\n",
    "print(list(more_itertools.collapse(tree)))\n",
    "print(list(more_itertools.collapse(tree, levels=1)))"
   ]
  },
  {
   "cell_type": "markdown",
   "metadata": {},
   "source": [
    "### MAP_REDUCE\n",
    "\n",
    "Return a dictionary that \n",
    "1. maps the items in an *iterable* to categories defined by *keyfunc*, \n",
    "2. transforms them with *valuefunc*, \n",
    "3. and then summarizes them by category with *reducefunc*.\n",
    "\n",
    "*valuefunc* defaults to the identity function if it is unspecified. If *reducefunc* is unspecified, no summarization takes place. (Omitting certain functions can be useful to produce intermediate steps in the MapReduce process, as shown below.)"
   ]
  },
  {
   "cell_type": "code",
   "execution_count": 23,
   "metadata": {
    "ExecuteTime": {
     "end_time": "2020-10-06T21:18:55.574022Z",
     "start_time": "2020-10-06T21:18:55.567025Z"
    }
   },
   "outputs": [
    {
     "name": "stdout",
     "output_type": "stream",
     "text": [
      "defaultdict(None,\n",
      "            {2: ['of', 'in'],\n",
      "             3: ['has', 'it,', 'and'],\n",
      "             4: ['This', 'both', 'ones', 'long', 'ones'],\n",
      "             5: ['words', 'short'],\n",
      "             7: ['various', 'lengths'],\n",
      "             8: ['sentence']})\n"
     ]
    }
   ],
   "source": [
    "data = 'This sentence has words of various lengths in it, both short ones and long ones'.split()\n",
    "\n",
    "keyfunc = lambda x: len(x)\n",
    "\n",
    "result = more_itertools.map_reduce(data, keyfunc)\n",
    "\n",
    "pprint(result)"
   ]
  },
  {
   "cell_type": "code",
   "execution_count": 24,
   "metadata": {
    "ExecuteTime": {
     "end_time": "2020-10-06T21:20:00.907360Z",
     "start_time": "2020-10-06T21:20:00.902291Z"
    }
   },
   "outputs": [
    {
     "name": "stdout",
     "output_type": "stream",
     "text": [
      "defaultdict(None,\n",
      "            {2: [1, 1],\n",
      "             3: [1, 1, 1],\n",
      "             4: [1, 1, 1, 1, 1],\n",
      "             5: [1, 1],\n",
      "             7: [1, 1],\n",
      "             8: [1]})\n"
     ]
    }
   ],
   "source": [
    "valuefunc = lambda x: 1\n",
    "\n",
    "result = more_itertools.map_reduce(data, keyfunc, valuefunc)\n",
    "\n",
    "pprint(result)"
   ]
  },
  {
   "cell_type": "code",
   "execution_count": 26,
   "metadata": {
    "ExecuteTime": {
     "end_time": "2020-10-06T21:20:45.483241Z",
     "start_time": "2020-10-06T21:20:45.477244Z"
    }
   },
   "outputs": [
    {
     "name": "stdout",
     "output_type": "stream",
     "text": [
      "defaultdict(None, {4: 5, 8: 1, 3: 3, 5: 2, 2: 2, 7: 2})\n"
     ]
    }
   ],
   "source": [
    "reducefunc = sum\n",
    "\n",
    "result = more_itertools.map_reduce(data, keyfunc, valuefunc, reducefunc)\n",
    "\n",
    "pprint(result)"
   ]
  },
  {
   "cell_type": "code",
   "execution_count": null,
   "metadata": {},
   "outputs": [],
   "source": [
    "### ..."
   ]
  },
  {
   "cell_type": "code",
   "execution_count": null,
   "metadata": {
    "ExecuteTime": {
     "end_time": "2020-10-06T21:17:54.603352Z",
     "start_time": "2020-10-06T21:17:52.527Z"
    }
   },
   "outputs": [],
   "source": [
    "### Side_effect\n",
    "\n"
   ]
  }
 ],
 "metadata": {
  "hide_input": false,
  "kernelspec": {
   "display_name": "Python 3",
   "language": "python",
   "name": "python3"
  },
  "language_info": {
   "codemirror_mode": {
    "name": "ipython",
    "version": 3
   },
   "file_extension": ".py",
   "mimetype": "text/x-python",
   "name": "python",
   "nbconvert_exporter": "python",
   "pygments_lexer": "ipython3",
   "version": "3.8.3"
  },
  "toc": {
   "base_numbering": 1,
   "nav_menu": {},
   "number_sections": true,
   "sideBar": false,
   "skip_h1_title": true,
   "title_cell": "Table of Contents",
   "title_sidebar": "Contents",
   "toc_cell": true,
   "toc_position": {},
   "toc_section_display": true,
   "toc_window_display": false
  }
 },
 "nbformat": 4,
 "nbformat_minor": 4
}
