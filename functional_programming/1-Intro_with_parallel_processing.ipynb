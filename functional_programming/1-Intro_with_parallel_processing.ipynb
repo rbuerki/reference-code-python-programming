{
 "cells": [
  {
   "cell_type": "markdown",
   "metadata": {},
   "source": [
    "# Functional programming - Parallel Processing\n",
    "\n",
    "Based on realpython course on \"[Functional Programming in Python](https://realpython.com/courses/functional-programming-python/)\"\n",
    "\n",
    "Wile Python is not a dedicated language for functional programming, we can apply some fundamentals to make sure our functions have no side effects:\n",
    "1. Start with a solid data structure: use immutable data types\n",
    "2. ..."
   ]
  },
  {
   "cell_type": "markdown",
   "metadata": {
    "toc": true
   },
   "source": [
    "<h1>Table of Contents<span class=\"tocSkip\"></span></h1>\n",
    "<div class=\"toc\"><ul class=\"toc-item\"><li><span><a href=\"#Use-immutable-Data-Structures:-(Named)-Tuples\" data-toc-modified-id=\"Use-immutable-Data-Structures:-(Named)-Tuples-1\"><span class=\"toc-item-num\">1&nbsp;&nbsp;</span>Use immutable Data Structures: (Named) Tuples</a></span></li><li><span><a href=\"#Functional-Programming-Primitives\" data-toc-modified-id=\"Functional-Programming-Primitives-2\"><span class=\"toc-item-num\">2&nbsp;&nbsp;</span>Functional Programming Primitives</a></span><ul class=\"toc-item\"><li><span><a href=\"#filter()\" data-toc-modified-id=\"filter()-2.1\"><span class=\"toc-item-num\">2.1&nbsp;&nbsp;</span>filter()</a></span></li><li><span><a href=\"#map()\" data-toc-modified-id=\"map()-2.2\"><span class=\"toc-item-num\">2.2&nbsp;&nbsp;</span>map()</a></span></li><li><span><a href=\"#reduce()\" data-toc-modified-id=\"reduce()-2.3\"><span class=\"toc-item-num\">2.3&nbsp;&nbsp;</span>reduce()</a></span></li></ul></li><li><span><a href=\"#Parallel-Processing\" data-toc-modified-id=\"Parallel-Processing-3\"><span class=\"toc-item-num\">3&nbsp;&nbsp;</span>Parallel Processing</a></span><ul class=\"toc-item\"><li><span><a href=\"#multiprocessing\" data-toc-modified-id=\"multiprocessing-3.1\"><span class=\"toc-item-num\">3.1&nbsp;&nbsp;</span>multiprocessing</a></span></li></ul></li></ul></div>"
   ]
  },
  {
   "cell_type": "code",
   "execution_count": 1,
   "metadata": {
    "ExecuteTime": {
     "end_time": "2020-09-27T10:55:46.345505Z",
     "start_time": "2020-09-27T10:55:46.339509Z"
    }
   },
   "outputs": [],
   "source": [
    "import collections\n",
    "import shelve\n",
    "import sys\n",
    "from pprint import pprint"
   ]
  },
  {
   "cell_type": "code",
   "execution_count": 2,
   "metadata": {
    "ExecuteTime": {
     "end_time": "2020-09-27T10:55:47.319504Z",
     "start_time": "2020-09-27T10:55:47.312507Z"
    }
   },
   "outputs": [
    {
     "name": "stdout",
     "output_type": "stream",
     "text": [
      "C:\\Users\\r2d4\\miniconda3\\envs\\py3\\python.exe\n",
      "3.8.3 (default, May 19 2020, 06:50:17) [MSC v.1916 64 bit (AMD64)]\n"
     ]
    }
   ],
   "source": [
    "print(sys.executable)\n",
    "print(sys.version)"
   ]
  },
  {
   "cell_type": "code",
   "execution_count": 3,
   "metadata": {
    "ExecuteTime": {
     "end_time": "2020-09-27T10:55:47.975510Z",
     "start_time": "2020-09-27T10:55:47.972503Z"
    },
    "scrolled": true
   },
   "outputs": [],
   "source": [
    "# from csv import reader\n",
    "# with open('lps_2020-09-25.csv',mode='r') as infile:\n",
    "#     d = dict(reader(infile, dialect=\"excel\"))"
   ]
  },
  {
   "cell_type": "markdown",
   "metadata": {},
   "source": [
    "## Use immutable Data Structures: (Named) Tuples\n",
    "\n",
    "You can work with (named) tuples instead of dictionaries or dataframes.\n",
    "\n",
    "- immutable\n",
    "- make sure the keys are consistent for all instances\n",
    "\n"
   ]
  },
  {
   "cell_type": "code",
   "execution_count": 4,
   "metadata": {
    "ExecuteTime": {
     "end_time": "2020-09-27T10:55:49.295734Z",
     "start_time": "2020-09-27T10:55:49.045680Z"
    }
   },
   "outputs": [
    {
     "ename": "NameError",
     "evalue": "name 'Records' is not defined",
     "output_type": "error",
     "traceback": [
      "\u001b[1;31m---------------------------------------------------------------------------\u001b[0m",
      "\u001b[1;31mNameError\u001b[0m                                 Traceback (most recent call last)",
      "\u001b[1;32m<ipython-input-4-149429628634>\u001b[0m in \u001b[0;36m<module>\u001b[1;34m\u001b[0m\n\u001b[0;32m      9\u001b[0m ])\n\u001b[0;32m     10\u001b[0m \u001b[1;33m\u001b[0m\u001b[0m\n\u001b[1;32m---> 11\u001b[1;33m \u001b[0mprint\u001b[0m\u001b[1;33m(\u001b[0m\u001b[0mRecords\u001b[0m\u001b[1;33m)\u001b[0m\u001b[1;33m\u001b[0m\u001b[1;33m\u001b[0m\u001b[0m\n\u001b[0m",
      "\u001b[1;31mNameError\u001b[0m: name 'Records' is not defined"
     ]
    }
   ],
   "source": [
    "# We create a new class `Records` using the collections namedtuple\n",
    "Record = collections.namedtuple(\"Record\", [\n",
    "    \"quantity\",\n",
    "    \"artist\",\n",
    "    \"album\",\n",
    "    \"genre\",\n",
    "    \"preis\",\n",
    "    \"monat\",\n",
    "])\n",
    "\n",
    "print(Records)"
   ]
  },
  {
   "cell_type": "code",
   "execution_count": 5,
   "metadata": {
    "ExecuteTime": {
     "end_time": "2020-09-27T10:55:49.604919Z",
     "start_time": "2020-09-27T10:55:49.596751Z"
    }
   },
   "outputs": [],
   "source": [
    "# Create new instances\n",
    "rec_1 = Record(quantity=1, \n",
    "               artist=\"Year Of The Knife\",\n",
    "               album=\"Ultimate Aggression\",\n",
    "               genre=\"Hardcore\",\n",
    "               preis=30.0,\n",
    "               monat=\"Sep 19\"\n",
    "               )\n",
    "\n",
    "rec_2 = Record(quantity=1, \n",
    "               artist=\"Undeath\",\n",
    "               album=\"Lesions Of A Different Kind\",\n",
    "               genre=\"Death Metal\",\n",
    "               preis=20.0,\n",
    "               monat=\"Nov 19\"\n",
    "               )\n",
    "\n",
    "rec_3 = Record(quantity=1, \n",
    "               artist=\"Outer Heaven\",\n",
    "               album=\"Realms Of Eternal Decay\",\n",
    "               genre=\"Death Metal\",\n",
    "               preis=60.0,\n",
    "               monat=\"Oct 19\"\n",
    "               )\n",
    "\n",
    "rec_4 = Record(quantity=1, \n",
    "               artist=\"Ossuary\",\n",
    "               album=\"Supreme Degradation\",\n",
    "               genre=\"Death Metal\",\n",
    "               preis=20.0,\n",
    "               monat=\"Oct 19\"\n",
    "                )\n",
    "\n",
    "rec_5 = Record(quantity=1, \n",
    "               artist=\"Internal Rot\",\n",
    "               album=\"Griefing Birth\",\n",
    "               genre=\"Death Metal\",\n",
    "               preis=20.0,\n",
    "               monat=\"Oct 19\"\n",
    "               )\n",
    "\n",
    "rec_6 = Record(quantity=1, \n",
    "               artist=\"Disembowel\",\n",
    "               album=\"Echoes of Terror\",\n",
    "               genre=\"Death Metal\",\n",
    "               preis=20.0,\n",
    "               monat=\"Oct 19\"\n",
    "               )"
   ]
  },
  {
   "cell_type": "code",
   "execution_count": 6,
   "metadata": {
    "ExecuteTime": {
     "end_time": "2020-09-27T10:55:50.139224Z",
     "start_time": "2020-09-27T10:55:50.134223Z"
    }
   },
   "outputs": [
    {
     "name": "stdout",
     "output_type": "stream",
     "text": [
      "Year Of The Knife\n",
      "20.0\n"
     ]
    }
   ],
   "source": [
    "print(rec_1.artist)\n",
    "print(rec_2.preis)"
   ]
  },
  {
   "cell_type": "markdown",
   "metadata": {
    "ExecuteTime": {
     "end_time": "2020-09-25T08:50:04.593186Z",
     "start_time": "2020-09-25T08:50:04.584193Z"
    }
   },
   "source": [
    "**Note**: If we would collect our instances in a list of Records, then the individual instances are immutable, but the list as such is mutable (e.g. we could delete an instance with `del records[0]` or also new). _Mixing mutable and immutable data structures is dangerous!_"
   ]
  },
  {
   "cell_type": "code",
   "execution_count": 7,
   "metadata": {
    "ExecuteTime": {
     "end_time": "2020-09-27T10:55:51.234664Z",
     "start_time": "2020-09-27T10:55:51.228664Z"
    }
   },
   "outputs": [
    {
     "name": "stdout",
     "output_type": "stream",
     "text": [
      "(Record(quantity=1, artist='Year Of The Knife', album='Ultimate Aggression', genre='Hardcore', preis=30.0, monat='Sep 19'),\n",
      " Record(quantity=1, artist='Undeath', album='Lesions Of A Different Kind', genre='Death Metal', preis=20.0, monat='Nov 19'),\n",
      " Record(quantity=1, artist='Outer Heaven', album='Realms Of Eternal Decay', genre='Death Metal', preis=60.0, monat='Oct 19'),\n",
      " Record(quantity=1, artist='Ossuary', album='Supreme Degradation', genre='Death Metal', preis=20.0, monat='Oct 19'),\n",
      " Record(quantity=1, artist='Internal Rot', album='Griefing Birth', genre='Death Metal', preis=20.0, monat='Oct 19'),\n",
      " Record(quantity=1, artist='Disembowel', album='Echoes of Terror', genre='Death Metal', preis=20.0, monat='Oct 19'))\n"
     ]
    }
   ],
   "source": [
    "# Make a tuple of Records \n",
    "records = (rec_1, rec_2, rec_3, rec_4, rec_5, rec_6)\n",
    "\n",
    "pprint(records)"
   ]
  },
  {
   "cell_type": "code",
   "execution_count": 20,
   "metadata": {
    "ExecuteTime": {
     "end_time": "2020-09-27T11:06:22.345279Z",
     "start_time": "2020-09-27T11:06:22.333278Z"
    }
   },
   "outputs": [],
   "source": [
    "# For later: Make data structure available in multiprocessing scripts\n",
    "# Note: It's very hard to serialize named tuples ... so we store a tuple of dicts\n",
    "with shelve.open('record_shelf.shelf', 'c') as shelf:\n",
    "    records_export = tuple(dict(Record._asdict()) for Record in records)\n",
    "    shelf[\"records\"] = records_export"
   ]
  },
  {
   "cell_type": "markdown",
   "metadata": {},
   "source": [
    "## Functional Programming Primitives\n",
    "### filter()\n",
    "\n",
    "The built-in filter() takes a function (or None) and an iterable and returns an iterator (filter objects yielding those items from the iterator for which the that function(item) returns True)"
   ]
  },
  {
   "cell_type": "code",
   "execution_count": 10,
   "metadata": {
    "ExecuteTime": {
     "end_time": "2020-09-27T10:56:05.761430Z",
     "start_time": "2020-09-27T10:56:05.748644Z"
    }
   },
   "outputs": [
    {
     "data": {
      "text/plain": [
       "<filter at 0x28f94036610>"
      ]
     },
     "execution_count": 10,
     "metadata": {},
     "output_type": "execute_result"
    }
   ],
   "source": [
    "# filter() returns a filter object\n",
    "filter(lambda x: x.monat == \"Oct 19\", records)"
   ]
  },
  {
   "cell_type": "code",
   "execution_count": 11,
   "metadata": {
    "ExecuteTime": {
     "end_time": "2020-09-27T10:56:06.241780Z",
     "start_time": "2020-09-27T10:56:06.235777Z"
    }
   },
   "outputs": [
    {
     "data": {
      "text/plain": [
       "Record(quantity=1, artist='Outer Heaven', album='Realms Of Eternal Decay', genre='Death Metal', preis=60.0, monat='Oct 19')"
      ]
     },
     "execution_count": 11,
     "metadata": {},
     "output_type": "execute_result"
    }
   ],
   "source": [
    "# Generator basics: How to iterate over the items one at a time\n",
    "hc_recs = filter(lambda x: x.monat == \"Oct 19\", records)\n",
    "next(hc_recs)"
   ]
  },
  {
   "cell_type": "code",
   "execution_count": 12,
   "metadata": {
    "ExecuteTime": {
     "end_time": "2020-09-27T10:56:06.689338Z",
     "start_time": "2020-09-27T10:56:06.684337Z"
    }
   },
   "outputs": [
    {
     "data": {
      "text/plain": [
       "(Record(quantity=1, artist='Outer Heaven', album='Realms Of Eternal Decay', genre='Death Metal', preis=60.0, monat='Oct 19'),\n",
       " Record(quantity=1, artist='Ossuary', album='Supreme Degradation', genre='Death Metal', preis=20.0, monat='Oct 19'),\n",
       " Record(quantity=1, artist='Internal Rot', album='Griefing Birth', genre='Death Metal', preis=20.0, monat='Oct 19'),\n",
       " Record(quantity=1, artist='Disembowel', album='Echoes of Terror', genre='Death Metal', preis=20.0, monat='Oct 19'))"
      ]
     },
     "execution_count": 12,
     "metadata": {},
     "output_type": "execute_result"
    }
   ],
   "source": [
    "# Generator basics: How to get them all at once, wrap into list() or tuple() ...\n",
    "tuple(filter(lambda x: x.monat == \"Oct 19\", records))"
   ]
  },
  {
   "cell_type": "markdown",
   "metadata": {},
   "source": [
    "Note: Compared to a classic for loop\n",
    "- we don't have side effects of printing out and calling functions\n",
    "- very declarative, no need to spell out for loop and so\n",
    "- we can easily chain this code (actually it is already a chain made of highly declarative simple, reusable building blocks)\n",
    "\n",
    "Even better would be to write:\n",
    "    \n",
    "```\n",
    "def oct_filter(x):\n",
    "    return x.monat == \"Oct 19\"\n",
    "\n",
    "tuple(filter(oct_filter, records))\n",
    "```\n",
    "\n",
    "But take care, in every day usage list comprehensions (or even better: generator comprehensions) are certainly the more pythonic way to write code - functional programming should be applied with a cause, e.g. parallelization."
   ]
  },
  {
   "cell_type": "markdown",
   "metadata": {
    "ExecuteTime": {
     "end_time": "2020-09-26T20:59:08.076859Z",
     "start_time": "2020-09-26T20:59:08.073762Z"
    }
   },
   "source": [
    "### map()\n",
    "\n",
    "The built-in map() takes a function and iterable(s) and returns an iterator that computes the function using arguments from each of the passed iterables. (Stops when the shortest iterable is exausted.) -> It maps a function on each of the original items."
   ]
  },
  {
   "cell_type": "code",
   "execution_count": 13,
   "metadata": {
    "ExecuteTime": {
     "end_time": "2020-09-27T10:56:08.436838Z",
     "start_time": "2020-09-27T10:56:08.428839Z"
    }
   },
   "outputs": [
    {
     "data": {
      "text/plain": [
       "(Doubled(album='ULTIMATE AGGRESSION', d_price=60.0),\n",
       " Doubled(album='LESIONS OF A DIFFERENT KIND', d_price=40.0),\n",
       " Doubled(album='REALMS OF ETERNAL DECAY', d_price=120.0),\n",
       " Doubled(album='SUPREME DEGRADATION', d_price=40.0),\n",
       " Doubled(album='GRIEFING BIRTH', d_price=40.0),\n",
       " Doubled(album='ECHOES OF TERROR', d_price=40.0))"
      ]
     },
     "execution_count": 13,
     "metadata": {},
     "output_type": "execute_result"
    }
   ],
   "source": [
    "# Example: Return new collection of named tuples with doubled prices\n",
    "\n",
    "Doubled = collections.namedtuple(\"Doubled\", [\"album\", \"d_price\"])\n",
    "\n",
    "doubled = tuple(map(\n",
    "    lambda x: Doubled(album = x.album.upper(), d_price = x.preis * 2),\n",
    "    records\n",
    "))\n",
    "\n",
    "doubled"
   ]
  },
  {
   "cell_type": "markdown",
   "metadata": {},
   "source": [
    "Again: The comprehension code is of course much more pythonic and easier to read than using map():\n",
    "\n",
    "```\n",
    "tuple(Doubled(album = x.album, d_price = x.preis * 2) for x in records)\n",
    "```\n",
    "\n",
    "But to get to the point / mindset of functional programming:\n",
    "When we frist apply the filter function, then the map function then we have this clearly spelled out series of steps that we can chain together. Also note that we have transformed the 'album' entries, but without touching the original (immutable) data.\n",
    "We could reuse all these single building blocks and data steps and have no sideeffects what so ever."
   ]
  },
  {
   "cell_type": "markdown",
   "metadata": {
    "ExecuteTime": {
     "end_time": "2020-09-26T21:26:07.668704Z",
     "start_time": "2020-09-26T21:26:07.665709Z"
    }
   },
   "source": [
    "### reduce()\n",
    "\n",
    "Not a built-in! Has to be imported\n",
    "\n",
    "```\n",
    "from functools import reduce\n",
    "```\n",
    "\n",
    "reduce() applies a function of 2 args cumulatively to the items of a sequence (--> value), so as tho reduce the sequence to a single value (--> accumulator).\n",
    "\n",
    "Example:\n",
    "```\n",
    "redude(lambda x, y: x+y [1, 2, 3]\n",
    "```\n",
    "calculates ((1+2)+3)\n",
    "\n",
    "\n",
    "(Note: For simplicity's sake, no named tuples but (mutable) dicts for the following code examples.)"
   ]
  },
  {
   "cell_type": "code",
   "execution_count": 14,
   "metadata": {
    "ExecuteTime": {
     "end_time": "2020-09-27T10:56:10.050196Z",
     "start_time": "2020-09-27T10:56:10.045196Z"
    }
   },
   "outputs": [
    {
     "data": {
      "text/plain": [
       "170.0"
      ]
     },
     "execution_count": 14,
     "metadata": {},
     "output_type": "execute_result"
    }
   ],
   "source": [
    "from functools import reduce\n",
    "\n",
    "# Very simple example: Calculate the total price\n",
    "reduce(lambda total_preis, Records:  total_preis + Records.preis, records, 0) # The final arg is the optional initial"
   ]
  },
  {
   "cell_type": "code",
   "execution_count": 15,
   "metadata": {
    "ExecuteTime": {
     "end_time": "2020-09-27T10:56:10.692995Z",
     "start_time": "2020-09-27T10:56:10.684999Z"
    }
   },
   "outputs": [
    {
     "data": {
      "text/plain": [
       "{'Hardcore': ['Ultimate Aggression'],\n",
       " 'Death Metal': ['Lesions Of A Different Kind',\n",
       "  'Realms Of Eternal Decay',\n",
       "  'Supreme Degradation',\n",
       "  'Griefing Birth',\n",
       "  'Echoes of Terror'],\n",
       " 'Crossover': []}"
      ]
     },
     "execution_count": 15,
     "metadata": {},
     "output_type": "execute_result"
    }
   ],
   "source": [
    "# Better use case: populate an empty dict with genre counts\n",
    "genre_dict = {\"Hardcore\": [], \"Death Metal\": [], \"Crossover\": []}\n",
    "\n",
    "def reducer(acc, val):\n",
    "    acc[val.genre].append(val.album)\n",
    "    return acc\n",
    "\n",
    "records_by_genre = reduce(\n",
    "    reducer,\n",
    "    records,\n",
    "    genre_dict\n",
    ")\n",
    "\n",
    "records_by_genre"
   ]
  },
  {
   "cell_type": "code",
   "execution_count": 16,
   "metadata": {
    "ExecuteTime": {
     "end_time": "2020-09-27T10:56:11.460163Z",
     "start_time": "2020-09-27T10:56:11.452165Z"
    }
   },
   "outputs": [
    {
     "data": {
      "text/plain": [
       "{'Hardcore': ['Ultimate Aggression'],\n",
       " 'Death Metal': ['Lesions Of A Different Kind',\n",
       "  'Realms Of Eternal Decay',\n",
       "  'Supreme Degradation',\n",
       "  'Griefing Birth',\n",
       "  'Echoes of Terror']}"
      ]
     },
     "execution_count": 16,
     "metadata": {},
     "output_type": "execute_result"
    }
   ],
   "source": [
    "# On a side note: A safer way would be to generate the genre_dict directly form the entries\n",
    "\n",
    "from collections import defaultdict\n",
    "\n",
    "records_by_genre = reduce(\n",
    "    reducer,\n",
    "    records,\n",
    "    defaultdict(list)\n",
    ")\n",
    "\n",
    "dict(records_by_genre)"
   ]
  },
  {
   "cell_type": "markdown",
   "metadata": {},
   "source": [
    "Again, a more pythonic way _could_ be ... (but now things are not so clear anymore ...):\n",
    "\n",
    "```\n",
    "import itertools\n",
    "\n",
    "records_by_genre = {\n",
    "    item[0]: list(item[1])\n",
    "    for item in itertools.groupby(records, lambda x: x.genre)\n",
    "}\n",
    "```"
   ]
  },
  {
   "cell_type": "markdown",
   "metadata": {},
   "source": [
    " ## Parallel Processing \n",
    "### multiprocessing\n",
    "\n",
    "1. import multiprocessing\n",
    "2. Create a multiprocessing.Pool() object as interface for parallel processing\n",
    "3. On windows: install an `if __name__ == '__main__':` guard in the main module to avoid creating subprocesses recursively. (see [here](https://stackoverflow.com/questions/18204782/runtimeerror-on-windows-trying-python-multiprocessing))\n",
    "\n"
   ]
  },
  {
   "cell_type": "code",
   "execution_count": 17,
   "metadata": {
    "ExecuteTime": {
     "end_time": "2020-09-27T10:56:24.672480Z",
     "start_time": "2020-09-27T10:56:18.660580Z"
    }
   },
   "outputs": [
    {
     "name": "stdout",
     "output_type": "stream",
     "text": [
      "Fetching and processing item ...\n",
      "Finished processing of album Ultimate Aggression\n",
      "Fetching and processing item ...\n",
      "Finished processing of album Lesions Of A Different Kind\n",
      "Fetching and processing item ...\n",
      "Finished processing of album Realms Of Eternal Decay\n",
      "Fetching and processing item ...\n",
      "Finished processing of album Supreme Degradation\n",
      "Fetching and processing item ...\n",
      "Finished processing of album Griefing Birth\n",
      "Fetching and processing item ...\n",
      "Finished processing of album Echoes of Terror\n",
      "\n",
      "Total time: 6.00\n"
     ]
    }
   ],
   "source": [
    "# As baseline: Preparing some sequential processing using map()\n",
    "\n",
    "import time\n",
    "\n",
    "def double_the_price_slowly(x):\n",
    "    print(\"Fetching and processing item ...\")\n",
    "    time.sleep(1)\n",
    "    result = {\"album\": x.album, \"d_price\": x.preis * 2}\n",
    "    print(f\"Finished processing of album {x.album}\")\n",
    "    return result\n",
    "\n",
    "start = time.time()\n",
    "\n",
    "_ = tuple(map(double_the_price_slowly, records))\n",
    "\n",
    "end = time.time()\n",
    "\n",
    "print(f\"\\nTotal time: {end-start:.2f}\")"
   ]
  },
  {
   "cell_type": "markdown",
   "metadata": {
    "ExecuteTime": {
     "end_time": "2020-09-27T10:48:21.991530Z",
     "start_time": "2020-09-27T10:48:21.685Z"
    }
   },
   "source": [
    "<b><font color='red'>Multiprocessing code does not run in iPython, see separate multiprocessing.py script for executable code.</span></b><font color='red'>"
   ]
  },
  {
   "cell_type": "markdown",
   "metadata": {
    "ExecuteTime": {
     "end_time": "2020-09-27T11:18:53.056063Z",
     "start_time": "2020-09-27T11:18:53.050070Z"
    }
   },
   "source": [
    "The followingcode runs in about 2.6 secs on 4 cores:\n",
    "<br>\n",
    "\n",
    "```\n",
    "if __name__ == \"__main__\":\n",
    "    multiprocessing.freeze_support()\n",
    "\n",
    "    start = time.time()\n",
    "\n",
    "    pool = multiprocessing.Pool()\n",
    "    _ = pool.map(double_the_price_slowly, records)\n",
    "\n",
    "    end = time.time()\n",
    "\n",
    "    print(f\"\\nTotal time: {end-start:.2f}\")\n",
    "```\n",
    "\n",
    "\n",
    "Passign the following argument speeds it up to  1.8 secs ...\n",
    "<br>\n",
    "\n",
    "```\n",
    "    pool = multiprocessing.Pool(processes=len(records))\n",
    "```\n",
    "\n",
    "(Note: How we check the processes in the script's log with `os.getpid()`.)"
   ]
  },
  {
   "cell_type": "code",
   "execution_count": null,
   "metadata": {},
   "outputs": [],
   "source": []
  }
 ],
 "metadata": {
  "hide_input": false,
  "kernelspec": {
   "display_name": "Python 3",
   "language": "python",
   "name": "python3"
  },
  "language_info": {
   "codemirror_mode": {
    "name": "ipython",
    "version": 3
   },
   "file_extension": ".py",
   "mimetype": "text/x-python",
   "name": "python",
   "nbconvert_exporter": "python",
   "pygments_lexer": "ipython3",
   "version": "3.8.3"
  },
  "toc": {
   "base_numbering": 1,
   "nav_menu": {},
   "number_sections": true,
   "sideBar": true,
   "skip_h1_title": true,
   "title_cell": "Table of Contents",
   "title_sidebar": "Contents",
   "toc_cell": true,
   "toc_position": {
    "height": "calc(100% - 180px)",
    "left": "10px",
    "top": "150px",
    "width": "258.188px"
   },
   "toc_section_display": true,
   "toc_window_display": false
  }
 },
 "nbformat": 4,
 "nbformat_minor": 4
}
