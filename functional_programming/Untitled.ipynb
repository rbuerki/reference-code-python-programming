{
 "cells": [
  {
   "cell_type": "markdown",
   "metadata": {},
   "source": [
    "# Functional programming - Parallel Processing\n",
    "\n",
    "Based on realpython course on \"[Functional Programming in Python](https://realpython.com/courses/functional-programming-python/)\"\n",
    "\n",
    "Wile Python is not a dedicated language for functional programming, we can apply some fundamentals to make sure our functions have no side effects:\n",
    "1. Start with a solid data structure: use immutable data types\n",
    "2. ..."
   ]
  },
  {
   "cell_type": "markdown",
   "metadata": {
    "toc": true
   },
   "source": [
    "<h1>Table of Contents<span class=\"tocSkip\"></span></h1>\n",
    "<div class=\"toc\"><ul class=\"toc-item\"><li><span><a href=\"#Use-immutable-Data-Structures:-(Named)-Tuples\" data-toc-modified-id=\"Use-immutable-Data-Structures:-(Named)-Tuples-1\"><span class=\"toc-item-num\">1&nbsp;&nbsp;</span>Use immutable Data Structures: (Named) Tuples</a></span></li><li><span><a href=\"#Functional-Programming-Primitives\" data-toc-modified-id=\"Functional-Programming-Primitives-2\"><span class=\"toc-item-num\">2&nbsp;&nbsp;</span>Functional Programming Primitives</a></span><ul class=\"toc-item\"><li><span><a href=\"#filter()\" data-toc-modified-id=\"filter()-2.1\"><span class=\"toc-item-num\">2.1&nbsp;&nbsp;</span>filter()</a></span></li><li><span><a href=\"#map()\" data-toc-modified-id=\"map()-2.2\"><span class=\"toc-item-num\">2.2&nbsp;&nbsp;</span>map()</a></span></li><li><span><a href=\"#reduce()\" data-toc-modified-id=\"reduce()-2.3\"><span class=\"toc-item-num\">2.3&nbsp;&nbsp;</span>reduce()</a></span></li></ul></li><li><span><a href=\"#Parallel-Processing\" data-toc-modified-id=\"Parallel-Processing-3\"><span class=\"toc-item-num\">3&nbsp;&nbsp;</span>Parallel Processing</a></span><ul class=\"toc-item\"><li><span><a href=\"#multiprocessing\" data-toc-modified-id=\"multiprocessing-3.1\"><span class=\"toc-item-num\">3.1&nbsp;&nbsp;</span>multiprocessing</a></span></li></ul></li></ul></div>"
   ]
  },
  {
   "cell_type": "code",
   "execution_count": 1,
   "metadata": {
    "ExecuteTime": {
     "end_time": "2020-09-26T20:32:19.469411Z",
     "start_time": "2020-09-26T20:32:19.454843Z"
    }
   },
   "outputs": [],
   "source": [
    "import collections\n",
    "import sys\n",
    "from pprint import pprint"
   ]
  },
  {
   "cell_type": "code",
   "execution_count": 4,
   "metadata": {
    "ExecuteTime": {
     "end_time": "2020-09-25T07:35:43.841525Z",
     "start_time": "2020-09-25T07:35:43.819507Z"
    }
   },
   "outputs": [
    {
     "name": "stdout",
     "output_type": "stream",
     "text": [
      "C:\\Users\\r2d4\\miniconda3\\envs\\py3\\python.exe\n",
      "3.8.3 (default, May 19 2020, 06:50:17) [MSC v.1916 64 bit (AMD64)]\n"
     ]
    }
   ],
   "source": [
    "print(sys.executable)\n",
    "print(sys.version)"
   ]
  },
  {
   "cell_type": "code",
   "execution_count": 6,
   "metadata": {
    "ExecuteTime": {
     "end_time": "2020-09-25T08:04:24.372933Z",
     "start_time": "2020-09-25T08:04:24.361872Z"
    },
    "scrolled": true
   },
   "outputs": [
    {
     "ename": "ValueError",
     "evalue": "dictionary update sequence element #0 has length 1; 2 is required",
     "output_type": "error",
     "traceback": [
      "\u001b[1;31m---------------------------------------------------------------------------\u001b[0m",
      "\u001b[1;31mValueError\u001b[0m                                Traceback (most recent call last)",
      "\u001b[1;32m<ipython-input-6-42e2bef42713>\u001b[0m in \u001b[0;36m<module>\u001b[1;34m\u001b[0m\n\u001b[0;32m      1\u001b[0m \u001b[1;32mfrom\u001b[0m \u001b[0mcsv\u001b[0m \u001b[1;32mimport\u001b[0m \u001b[0mreader\u001b[0m\u001b[1;33m\u001b[0m\u001b[1;33m\u001b[0m\u001b[0m\n\u001b[0;32m      2\u001b[0m \u001b[1;32mwith\u001b[0m \u001b[0mopen\u001b[0m\u001b[1;33m(\u001b[0m\u001b[1;34m'lps_2020-09-25.csv'\u001b[0m\u001b[1;33m,\u001b[0m\u001b[0mmode\u001b[0m\u001b[1;33m=\u001b[0m\u001b[1;34m'r'\u001b[0m\u001b[1;33m)\u001b[0m \u001b[1;32mas\u001b[0m \u001b[0minfile\u001b[0m\u001b[1;33m:\u001b[0m\u001b[1;33m\u001b[0m\u001b[1;33m\u001b[0m\u001b[0m\n\u001b[1;32m----> 3\u001b[1;33m     \u001b[0md\u001b[0m \u001b[1;33m=\u001b[0m \u001b[0mdict\u001b[0m\u001b[1;33m(\u001b[0m\u001b[0mreader\u001b[0m\u001b[1;33m(\u001b[0m\u001b[0minfile\u001b[0m\u001b[1;33m,\u001b[0m \u001b[0mdialect\u001b[0m\u001b[1;33m=\u001b[0m\u001b[1;34m\"excel\"\u001b[0m\u001b[1;33m)\u001b[0m\u001b[1;33m)\u001b[0m\u001b[1;33m\u001b[0m\u001b[1;33m\u001b[0m\u001b[0m\n\u001b[0m",
      "\u001b[1;31mValueError\u001b[0m: dictionary update sequence element #0 has length 1; 2 is required"
     ]
    }
   ],
   "source": [
    "from csv import reader\n",
    "with open('lps_2020-09-25.csv',mode='r') as infile:\n",
    "    d = dict(reader(infile, dialect=\"excel\"))"
   ]
  },
  {
   "cell_type": "markdown",
   "metadata": {},
   "source": [
    "## Use immutable Data Structures: (Named) Tuples\n",
    "\n",
    "You can work with (named) tuples instead of dictionaries or dataframes.\n",
    "\n",
    "- immutable\n",
    "- make sure the keys are consistent for all instances\n",
    "\n"
   ]
  },
  {
   "cell_type": "code",
   "execution_count": 2,
   "metadata": {
    "ExecuteTime": {
     "end_time": "2020-09-26T20:34:23.186854Z",
     "start_time": "2020-09-26T20:34:23.178852Z"
    }
   },
   "outputs": [
    {
     "name": "stdout",
     "output_type": "stream",
     "text": [
      "<class '__main__.Records'>\n"
     ]
    }
   ],
   "source": [
    "# We create a new class `Records` using the collections namedtuple\n",
    "Records = collections.namedtuple(\"Records\", [\n",
    "    \"quantity\",\n",
    "    \"artist\",\n",
    "    \"album\",\n",
    "    \"genre\",\n",
    "    \"preis\",\n",
    "    \"monat\",\n",
    "])\n",
    "\n",
    "print(Records)"
   ]
  },
  {
   "cell_type": "code",
   "execution_count": 44,
   "metadata": {
    "ExecuteTime": {
     "end_time": "2020-09-26T21:53:45.262199Z",
     "start_time": "2020-09-26T21:53:45.256173Z"
    }
   },
   "outputs": [],
   "source": [
    "# Create new instances\n",
    "rec_1 = Records(quantity=1, \n",
    "                 artist=\"Year Of The Knife\",\n",
    "                 album=\"Ultimate Aggression\",\n",
    "                 genre=\"Hardcore\",\n",
    "                 preis=30.0,\n",
    "                 monat=\"Oct 19\"\n",
    "                )\n",
    "\n",
    "rec_2 = Records(quantity=1, \n",
    "                 artist=\"Undeath\",\n",
    "                 album=\"Lesions Of A Different Kind\",\n",
    "                 genre=\"Death Metal\",\n",
    "                 preis=20.0,\n",
    "                 monat=\"Oct 19\"\n",
    "                )"
   ]
  },
  {
   "cell_type": "code",
   "execution_count": 4,
   "metadata": {
    "ExecuteTime": {
     "end_time": "2020-09-26T20:34:25.302426Z",
     "start_time": "2020-09-26T20:34:25.297422Z"
    }
   },
   "outputs": [
    {
     "name": "stdout",
     "output_type": "stream",
     "text": [
      "Year Of The Knife\n",
      "20.0\n"
     ]
    }
   ],
   "source": [
    "print(rec_1.artist)\n",
    "print(rec_2.preis)"
   ]
  },
  {
   "cell_type": "markdown",
   "metadata": {
    "ExecuteTime": {
     "end_time": "2020-09-25T08:50:04.593186Z",
     "start_time": "2020-09-25T08:50:04.584193Z"
    }
   },
   "source": [
    "**Note**: If we would collect our instances in a list of Records, then the individual instances are immutable, but the list as such is mutable (e.g. we could delete an instance with `del records[0]` or also new). _Mixing mutable and immutable data structures is dangerous!_"
   ]
  },
  {
   "cell_type": "code",
   "execution_count": 46,
   "metadata": {
    "ExecuteTime": {
     "end_time": "2020-09-26T21:54:03.973135Z",
     "start_time": "2020-09-26T21:54:03.969135Z"
    }
   },
   "outputs": [
    {
     "name": "stdout",
     "output_type": "stream",
     "text": [
      "(Records(quantity=1, artist='Year Of The Knife', album='Ultimate Aggression', genre='Hardcore', preis=30.0, monat='Oct 19'),\n",
      " Records(quantity=1, artist='Undeath', album='Lesions Of A Different Kind', genre='Death Metal', preis=20.0, monat='Oct 19'))\n"
     ]
    }
   ],
   "source": [
    "# Make a tuple of Records \n",
    "records = (rec_1, rec_2)\n",
    "\n",
    "pprint(records)"
   ]
  },
  {
   "cell_type": "markdown",
   "metadata": {},
   "source": [
    "## Functional Programming Primitives\n",
    "### filter()\n",
    "\n",
    "The built-in filter() takes a function (or None) and an iterable and returns an iterator (filter objects yielding those items from the iterator for which the that function(item) returns True)"
   ]
  },
  {
   "cell_type": "code",
   "execution_count": 7,
   "metadata": {
    "ExecuteTime": {
     "end_time": "2020-09-26T20:37:01.374742Z",
     "start_time": "2020-09-26T20:37:01.362738Z"
    }
   },
   "outputs": [
    {
     "data": {
      "text/plain": [
       "<filter at 0x211faa78be0>"
      ]
     },
     "execution_count": 7,
     "metadata": {},
     "output_type": "execute_result"
    }
   ],
   "source": [
    "# filter() returns a filter object\n",
    "filter(lambda x: x.monat == \"Oct 19\", records)"
   ]
  },
  {
   "cell_type": "code",
   "execution_count": 8,
   "metadata": {
    "ExecuteTime": {
     "end_time": "2020-09-26T20:38:44.584455Z",
     "start_time": "2020-09-26T20:38:44.579458Z"
    }
   },
   "outputs": [
    {
     "data": {
      "text/plain": [
       "Records(quantity=1, artist='Year Of The Knife', album='Ultimate Aggression', genre='Hardcore', preis=30.0, monat='Oct 19')"
      ]
     },
     "execution_count": 8,
     "metadata": {},
     "output_type": "execute_result"
    }
   ],
   "source": [
    "# Generator basics: How to iterate over the items one at a time\n",
    "hc_recs = filter(lambda x: x.monat == \"Oct 19\", records)\n",
    "next(hc_recs)"
   ]
  },
  {
   "cell_type": "code",
   "execution_count": 9,
   "metadata": {
    "ExecuteTime": {
     "end_time": "2020-09-26T20:40:51.776637Z",
     "start_time": "2020-09-26T20:40:51.771639Z"
    }
   },
   "outputs": [
    {
     "data": {
      "text/plain": [
       "(Records(quantity=1, artist='Year Of The Knife', album='Ultimate Aggression', genre='Hardcore', preis=30.0, monat='Oct 19'),\n",
       " Records(quantity=1, artist='Undeath', album='Lesions Of A Different Kind', genre='Hardcore', preis=20.0, monat='Oct 19'))"
      ]
     },
     "execution_count": 9,
     "metadata": {},
     "output_type": "execute_result"
    }
   ],
   "source": [
    "# Generator basics: How to get them all at once, wrap into list() or tuple() ...\n",
    "tuple(filter(lambda x: x.monat == \"Oct 19\", records))"
   ]
  },
  {
   "cell_type": "markdown",
   "metadata": {},
   "source": [
    "Note: Compared to a classic for loop\n",
    "- we don't have side effects of printing out and calling functions\n",
    "- very declarative, no need to spell out for loop and so\n",
    "- we can easily chain this code (actually it is already a chain made of highly declarative simple, reusable building blocks)\n",
    "\n",
    "Even better would be to write:\n",
    "    \n",
    "```\n",
    "def oct_filter(x):\n",
    "    return x.monat == \"Oct 19\"\n",
    "\n",
    "tuple(filter(oct_filter, records))\n",
    "```\n",
    "\n",
    "But take care, in every day usage list comprehensions (or even better: generator comprehensions) are certainly the more pythonic way to write code - functional programming should be applied with a cause, e.g. parallelization."
   ]
  },
  {
   "cell_type": "markdown",
   "metadata": {
    "ExecuteTime": {
     "end_time": "2020-09-26T20:59:08.076859Z",
     "start_time": "2020-09-26T20:59:08.073762Z"
    }
   },
   "source": [
    "### map()\n",
    "\n",
    "The built-in map() takes a function and iterable(s) and returns an iterator that computes the function using arguments from each of the passed iterables. (Stops when the shortest iterable is exausted.) -> It maps a function on each of the original items."
   ]
  },
  {
   "cell_type": "code",
   "execution_count": 25,
   "metadata": {
    "ExecuteTime": {
     "end_time": "2020-09-26T21:22:01.913283Z",
     "start_time": "2020-09-26T21:22:01.905280Z"
    }
   },
   "outputs": [
    {
     "data": {
      "text/plain": [
       "(Doubled(album='ULTIMATE AGGRESSION', d_price=60.0),\n",
       " Doubled(album='LESIONS OF A DIFFERENT KIND', d_price=40.0))"
      ]
     },
     "execution_count": 25,
     "metadata": {},
     "output_type": "execute_result"
    }
   ],
   "source": [
    "# Example: Return new collection of named tuples with doubled prices\n",
    "\n",
    "Doubled = collections.namedtuple(\"Doubled\", [\"album\", \"d_price\"])\n",
    "\n",
    "doubled = tuple(map(\n",
    "    lambda x: Doubled(album = x.album.upper(), d_price = x.preis * 2),\n",
    "    records\n",
    "))\n",
    "\n",
    "doubled"
   ]
  },
  {
   "cell_type": "markdown",
   "metadata": {},
   "source": [
    "Again: The comprehension code is of course much more pythonic and easier to read than using map():\n",
    "\n",
    "```\n",
    "tuple(Doubled(album = x.album, d_price = x.preis * 2) for x in records)\n",
    "```\n",
    "\n",
    "But to get to the point / mindset of functional programming:\n",
    "When we frist apply the filter function, then the map function then we have this clearly spelled out series of steps that we can chain together. Also note that we have transformed the 'album' entries, but without touching the original (immutable) data.\n",
    "We could reuse all these single building blocks and data steps and have no sideeffects what so ever."
   ]
  },
  {
   "cell_type": "markdown",
   "metadata": {
    "ExecuteTime": {
     "end_time": "2020-09-26T21:26:07.668704Z",
     "start_time": "2020-09-26T21:26:07.665709Z"
    }
   },
   "source": [
    "### reduce()\n",
    "\n",
    "Not a built-in! Has to be imported\n",
    "\n",
    "```\n",
    "from functools import reduce\n",
    "```\n",
    "\n",
    "reduce() applies a function of 2 args cumulatively to the items of a sequence (--> value), so as tho reduce the sequence to a single value (--> accumulator).\n",
    "\n",
    "Example:\n",
    "```\n",
    "redude(lambda x, y: x+y [1, 2, 3]\n",
    "```\n",
    "calculates ((1+2)+3)\n",
    "\n",
    "\n",
    "(Note: For simplicity's sake, no named tuples but (mutable) dicts for the following code examples.)"
   ]
  },
  {
   "cell_type": "code",
   "execution_count": 36,
   "metadata": {
    "ExecuteTime": {
     "end_time": "2020-09-26T21:39:31.958570Z",
     "start_time": "2020-09-26T21:39:31.952572Z"
    }
   },
   "outputs": [
    {
     "data": {
      "text/plain": [
       "50.0"
      ]
     },
     "execution_count": 36,
     "metadata": {},
     "output_type": "execute_result"
    }
   ],
   "source": [
    "from functools import reduce\n",
    "\n",
    "# Very simple example: Calculate the total price\n",
    "reduce(lambda total_preis, Records:  total_preis + Records.preis, records, 0) # The final arg is the optional initial"
   ]
  },
  {
   "cell_type": "code",
   "execution_count": 47,
   "metadata": {
    "ExecuteTime": {
     "end_time": "2020-09-26T21:54:08.352298Z",
     "start_time": "2020-09-26T21:54:08.344302Z"
    }
   },
   "outputs": [
    {
     "data": {
      "text/plain": [
       "{'Hardcore': ['Ultimate Aggression'],\n",
       " 'Death Metal': ['Lesions Of A Different Kind'],\n",
       " 'Crossover': []}"
      ]
     },
     "execution_count": 47,
     "metadata": {},
     "output_type": "execute_result"
    }
   ],
   "source": [
    "# Better use case: populate an empty dict with genre counts\n",
    "genre_dict = {\"Hardcore\": [], \"Death Metal\": [], \"Crossover\": []}\n",
    "\n",
    "def reducer(acc, val):\n",
    "    acc[val.genre].append(val.album)\n",
    "    return acc\n",
    "\n",
    "records_by_genre = reduce(\n",
    "    reducer,\n",
    "    records,\n",
    "    genre_dict\n",
    ")\n",
    "\n",
    "records_by_genre"
   ]
  },
  {
   "cell_type": "code",
   "execution_count": 52,
   "metadata": {
    "ExecuteTime": {
     "end_time": "2020-09-26T21:59:17.856747Z",
     "start_time": "2020-09-26T21:59:17.847753Z"
    }
   },
   "outputs": [
    {
     "data": {
      "text/plain": [
       "{'Hardcore': ['Ultimate Aggression'],\n",
       " 'Death Metal': ['Lesions Of A Different Kind']}"
      ]
     },
     "execution_count": 52,
     "metadata": {},
     "output_type": "execute_result"
    }
   ],
   "source": [
    "# On a side note: A safer way would be to generate the genre_dict directly form the entries\n",
    "\n",
    "from collections import defaultdict\n",
    "\n",
    "records_by_genre = reduce(\n",
    "    reducer,\n",
    "    records,\n",
    "    defaultdict(list)\n",
    ")\n",
    "\n",
    "dict(records_by_genre)"
   ]
  },
  {
   "cell_type": "markdown",
   "metadata": {},
   "source": [
    "Again, a more pythonic way _could_ be ... but now things are not so clear anymore ...:\n",
    "\n",
    "```\n",
    "import itertools\n",
    "\n",
    "records_by_genre = {\n",
    "    item[0]: list(item[1])\n",
    "    for item in itertools.groupby(records, lambda x: x.genre)\n",
    "}\n",
    "```"
   ]
  },
  {
   "cell_type": "markdown",
   "metadata": {},
   "source": [
    " ## Parallel Processing \n",
    "### multiprocessing\n",
    "\n",
    "..."
   ]
  },
  {
   "cell_type": "code",
   "execution_count": null,
   "metadata": {},
   "outputs": [],
   "source": []
  }
 ],
 "metadata": {
  "hide_input": false,
  "kernelspec": {
   "display_name": "Python 3",
   "language": "python",
   "name": "python3"
  },
  "language_info": {
   "codemirror_mode": {
    "name": "ipython",
    "version": 3
   },
   "file_extension": ".py",
   "mimetype": "text/x-python",
   "name": "python",
   "nbconvert_exporter": "python",
   "pygments_lexer": "ipython3",
   "version": "3.8.3"
  },
  "toc": {
   "base_numbering": 1,
   "nav_menu": {},
   "number_sections": true,
   "sideBar": true,
   "skip_h1_title": true,
   "title_cell": "Table of Contents",
   "title_sidebar": "Contents",
   "toc_cell": true,
   "toc_position": {
    "height": "calc(100% - 180px)",
    "left": "10px",
    "top": "150px",
    "width": "258.188px"
   },
   "toc_section_display": true,
   "toc_window_display": false
  }
 },
 "nbformat": 4,
 "nbformat_minor": 4
}
