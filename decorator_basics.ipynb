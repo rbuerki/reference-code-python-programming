{
 "cells": [
  {
   "cell_type": "markdown",
   "metadata": {
    "toc": true
   },
   "source": [
    "<h1>Decorator Basics<span class=\"tocSkip\"></span></h1>\n",
    "<div class=\"toc\"><ul class=\"toc-item\"><li><span><a href=\"#Basic-decorator\" data-toc-modified-id=\"Basic-decorator-1\"><span class=\"toc-item-num\">1&nbsp;&nbsp;</span>Basic decorator</a></span></li><li><span><a href=\"#Support-Input-Arguments-for-Decorated-Function\" data-toc-modified-id=\"Support-Input-Arguments-for-Decorated-Function-2\"><span class=\"toc-item-num\">2&nbsp;&nbsp;</span>Support Input Arguments for Decorated Function</a></span></li><li><span><a href=\"#Handle-Returns-of-The-Decorated-Functions\" data-toc-modified-id=\"Handle-Returns-of-The-Decorated-Functions-3\"><span class=\"toc-item-num\">3&nbsp;&nbsp;</span>Handle Returns of The Decorated Functions</a></span></li><li><span><a href=\"#Wrap-the-Decorated-Function-to-Preserve-Metadata\" data-toc-modified-id=\"Wrap-the-Decorated-Function-to-Preserve-Metadata-4\"><span class=\"toc-item-num\">4&nbsp;&nbsp;</span>Wrap the Decorated Function to Preserve Metadata</a></span></li><li><span><a href=\"#Define-Decorators-With-Arguments\" data-toc-modified-id=\"Define-Decorators-With-Arguments-5\"><span class=\"toc-item-num\">5&nbsp;&nbsp;</span>Define Decorators With Arguments</a></span></li><li><span><a href=\"#Class-based-Decorators\" data-toc-modified-id=\"Class-based-Decorators-6\"><span class=\"toc-item-num\">6&nbsp;&nbsp;</span>Class-based Decorators</a></span></li></ul></div>"
   ]
  },
  {
   "cell_type": "code",
   "execution_count": 1,
   "metadata": {
    "ExecuteTime": {
     "end_time": "2020-10-11T06:23:38.762667Z",
     "start_time": "2020-10-11T06:23:38.759668Z"
    }
   },
   "outputs": [],
   "source": [
    "import sys\n",
    "import time"
   ]
  },
  {
   "cell_type": "code",
   "execution_count": 2,
   "metadata": {
    "ExecuteTime": {
     "end_time": "2020-10-11T06:23:38.782667Z",
     "start_time": "2020-10-11T06:23:38.765670Z"
    }
   },
   "outputs": [
    {
     "name": "stdout",
     "output_type": "stream",
     "text": [
      "C:\\Users\\r2d4\\miniconda3\\envs\\py3\\python.exe\n",
      "3.8.3 (default, May 19 2020, 06:50:17) [MSC v.1916 64 bit (AMD64)]\n"
     ]
    }
   ],
   "source": [
    "print(sys.executable)\n",
    "print(sys.version)"
   ]
  },
  {
   "cell_type": "markdown",
   "metadata": {},
   "source": [
    "## Basic decorator\n",
    "\n",
    "- In essence, the decorator is a function that accepts another function as its input argument.\n",
    "- It defines an inner function that actually provides decoration activities and returns the inner function as the output. \n",
    "- To use the decorator, you simply place the decorator function name with an @ sign prefix above the function that you want to decorate.\n",
    "\n",
    "Step by step:\n",
    "- Firstly, we define the actual decorator. It accepts a single argument, which is the function we are trying to decorate. It will return the \"wrapper\".\n",
    "- Inside, we define a wrapper function that _is returned_ and used in place of the original decorated function."
   ]
  },
  {
   "cell_type": "code",
   "execution_count": 3,
   "metadata": {
    "ExecuteTime": {
     "end_time": "2020-10-11T06:23:38.792672Z",
     "start_time": "2020-10-11T06:23:38.786666Z"
    }
   },
   "outputs": [],
   "source": [
    "# Basic time logging decorator, for a function that does not take any arguments\n",
    "\n",
    "def logging_time(func):\n",
    "    \"\"\"Decorator that logs time.\"\"\"\n",
    "    def logger():\n",
    "        \"\"\"Function that logs time.\"\"\"\n",
    "        start = time.time()\n",
    "        func()\n",
    "        print(f\"Calling {func.__name__}: {time.time() - start:.5f}\")\n",
    "    return logger"
   ]
  },
  {
   "cell_type": "code",
   "execution_count": 4,
   "metadata": {
    "ExecuteTime": {
     "end_time": "2020-10-11T06:23:38.801668Z",
     "start_time": "2020-10-11T06:23:38.795667Z"
    }
   },
   "outputs": [],
   "source": [
    "@logging_time\n",
    "def calculate_sum():\n",
    "    return sum(range(1000000))"
   ]
  },
  {
   "cell_type": "code",
   "execution_count": 5,
   "metadata": {
    "ExecuteTime": {
     "end_time": "2020-10-11T06:23:38.872664Z",
     "start_time": "2020-10-11T06:23:38.804667Z"
    }
   },
   "outputs": [
    {
     "name": "stdout",
     "output_type": "stream",
     "text": [
      "Calling calculate_sum: 0.06100\n"
     ]
    }
   ],
   "source": [
    "calculate_sum()"
   ]
  },
  {
   "cell_type": "markdown",
   "metadata": {},
   "source": [
    "## Support Input Arguments for Decorated Function\n",
    "\n",
    "There is a problem with the code snippet above: It assumes that the decorated functions don’t require any input arguments.\n",
    "To address this issue, we should consider using * args and ** kwargs with the _inner_ decorator definition.     \n"
   ]
  },
  {
   "cell_type": "code",
   "execution_count": 6,
   "metadata": {
    "ExecuteTime": {
     "end_time": "2020-10-11T06:23:38.881667Z",
     "start_time": "2020-10-11T06:23:38.875665Z"
    }
   },
   "outputs": [],
   "source": [
    "# Revised version capable of handling input arguments\n",
    "\n",
    "def logging_time(func):\n",
    "    \"\"\"Decorator that logs time.\"\"\"\n",
    "    def logger(*args, **kwargs):\n",
    "        \"\"\"Function that logs time.\"\"\"\n",
    "        start = time.time()\n",
    "        func(*args, **kwargs)\n",
    "        print(f\"Calling {func.__name__}: {time.time() - start:.5f}\")\n",
    "\n",
    "    return logger"
   ]
  },
  {
   "cell_type": "code",
   "execution_count": 7,
   "metadata": {
    "ExecuteTime": {
     "end_time": "2020-10-11T06:23:38.897665Z",
     "start_time": "2020-10-11T06:23:38.890689Z"
    }
   },
   "outputs": [],
   "source": [
    "@logging_time\n",
    "def calculate_sum_n(n):\n",
    "    return sum(range(n))\n",
    "\n",
    "@logging_time\n",
    "def say_hi(whom, greeting=\"Hello\"):\n",
    "    \"\"\"Greet someone\"\"\"\n",
    "    print(f\"{greeting}, {whom}!\")"
   ]
  },
  {
   "cell_type": "code",
   "execution_count": 8,
   "metadata": {
    "ExecuteTime": {
     "end_time": "2020-10-11T06:23:38.908666Z",
     "start_time": "2020-10-11T06:23:38.900666Z"
    }
   },
   "outputs": [
    {
     "name": "stdout",
     "output_type": "stream",
     "text": [
      "Calling calculate_sum_n: 0.00400\n"
     ]
    }
   ],
   "source": [
    "calculate_sum_n(100000)"
   ]
  },
  {
   "cell_type": "code",
   "execution_count": 9,
   "metadata": {
    "ExecuteTime": {
     "end_time": "2020-10-11T06:23:38.918669Z",
     "start_time": "2020-10-11T06:23:38.913669Z"
    }
   },
   "outputs": [
    {
     "name": "stdout",
     "output_type": "stream",
     "text": [
      "hi, raph!\n",
      "Calling say_hi: 0.00000\n"
     ]
    }
   ],
   "source": [
    "say_hi(\"raph\", \"hi\")"
   ]
  },
  {
   "cell_type": "markdown",
   "metadata": {},
   "source": [
    "## Handle Returns of The Decorated Functions\n",
    "\n",
    "You can see we store the returned value in result on line 4. But before returning it, we have to finish timing the function. This is an example of behaviour that would not be possible without decorators."
   ]
  },
  {
   "cell_type": "code",
   "execution_count": 10,
   "metadata": {
    "ExecuteTime": {
     "end_time": "2020-10-11T06:23:38.929667Z",
     "start_time": "2020-10-11T06:23:38.922670Z"
    }
   },
   "outputs": [],
   "source": [
    "# Slightly different logging example\n",
    "\n",
    "def timer_decorator(func):\n",
    "    def timer_wrapper(*args, **kwargs):\n",
    "        import datetime as dt\n",
    "        before = dt.datetime.now()                     \n",
    "        result = func(*args,**kwargs)                \n",
    "        after = dt.datetime.now()                      \n",
    "        print(\"Elapsed Time = {after-before}\")\n",
    "        return result\n",
    "    \n",
    "    return timer_wrapper"
   ]
  },
  {
   "cell_type": "code",
   "execution_count": 11,
   "metadata": {
    "ExecuteTime": {
     "end_time": "2020-10-11T06:23:38.942667Z",
     "start_time": "2020-10-11T06:23:38.932669Z"
    }
   },
   "outputs": [],
   "source": [
    "@timer_decorator\n",
    "def sum_function(x, y):\n",
    "    print(x + y)\n",
    "    return x + y"
   ]
  },
  {
   "cell_type": "code",
   "execution_count": 12,
   "metadata": {
    "ExecuteTime": {
     "end_time": "2020-10-11T06:23:38.952667Z",
     "start_time": "2020-10-11T06:23:38.945666Z"
    }
   },
   "outputs": [
    {
     "name": "stdout",
     "output_type": "stream",
     "text": [
      "7\n",
      "Elapsed Time = {after-before}\n",
      "\n",
      "Result: 7\n"
     ]
    }
   ],
   "source": [
    "result = sum_function(2, 5)\n",
    "print(f\"\\nResult: {result}\")"
   ]
  },
  {
   "cell_type": "markdown",
   "metadata": {},
   "source": [
    "## Wrap the Decorated Function to Preserve Metadata\n",
    "\n",
    "The decoration will by default mess up the metadata of the decorated function, such as docstrings. To solve this problem, we can use another decorator function (wraps) that is shipped in the standard Python library, as shown below:"
   ]
  },
  {
   "cell_type": "code",
   "execution_count": 13,
   "metadata": {
    "ExecuteTime": {
     "end_time": "2020-10-11T06:23:38.961666Z",
     "start_time": "2020-10-11T06:23:38.955668Z"
    }
   },
   "outputs": [
    {
     "name": "stdout",
     "output_type": "stream",
     "text": [
      "Function that logs time.\n"
     ]
    }
   ],
   "source": [
    "# The decorated function now has the wrong docstrings.\n",
    "print(say_hi.__doc__)"
   ]
  },
  {
   "cell_type": "code",
   "execution_count": 14,
   "metadata": {
    "ExecuteTime": {
     "end_time": "2020-10-11T06:23:38.972666Z",
     "start_time": "2020-10-11T06:23:38.964667Z"
    }
   },
   "outputs": [],
   "source": [
    "# Revised decorator using the imported wraps() decorator\n",
    "\n",
    "from functools import wraps\n",
    "\n",
    "def logging_time(func):\n",
    "    \"\"\"Decorator that logs time.\"\"\"\n",
    "    @wraps(func)\n",
    "    def logger(*args, **kwargs):\n",
    "        \"\"\"Function that logs time.\"\"\"\n",
    "        start = time.time()\n",
    "        func(*args, **kwargs)\n",
    "        print(f\"Calling {func.__name__}: {time.time() - start:.5f}\")\n",
    "\n",
    "    return logger"
   ]
  },
  {
   "cell_type": "code",
   "execution_count": 15,
   "metadata": {
    "ExecuteTime": {
     "end_time": "2020-10-11T06:23:38.981666Z",
     "start_time": "2020-10-11T06:23:38.975666Z"
    }
   },
   "outputs": [],
   "source": [
    "@logging_time\n",
    "def say_hi(whom, greeting=\"Hello\"):\n",
    "    \"Greet someone.\"\n",
    "    print(f\"{greeting}, {whom}!\")"
   ]
  },
  {
   "cell_type": "code",
   "execution_count": 16,
   "metadata": {
    "ExecuteTime": {
     "end_time": "2020-10-11T06:23:38.989667Z",
     "start_time": "2020-10-11T06:23:38.984670Z"
    }
   },
   "outputs": [
    {
     "name": "stdout",
     "output_type": "stream",
     "text": [
      "Greet someone.\n"
     ]
    }
   ],
   "source": [
    "# The decorated function now has the correct docstrings.\n",
    "print(say_hi.__doc__)"
   ]
  },
  {
   "cell_type": "markdown",
   "metadata": {
    "ExecuteTime": {
     "end_time": "2020-10-08T20:26:30.129091Z",
     "start_time": "2020-10-08T20:26:30.118697Z"
    }
   },
   "source": [
    "## Define Decorators With Arguments\n",
    "\n",
    "The reason for adding another layer to get the decorator to accept arguments is that the decoration process is chaining the function call. Calling logging_time(\"ms\") will allow us to get the logger function, which has exactly the same function signature as the decorator function that we defined earlier.\n",
    "\n",
    "Please note that the current definition of the decorators _requires_ that we specify the unit for the decoration. If you want to make your arguments optional, it needs extra work. (see [here](https://medium.com/better-programming/how-to-write-python-decorators-that-take-parameters-b5a07d7fe393) for more info)."
   ]
  },
  {
   "cell_type": "code",
   "execution_count": 17,
   "metadata": {
    "ExecuteTime": {
     "end_time": "2020-10-11T06:23:39.002670Z",
     "start_time": "2020-10-11T06:23:38.992666Z"
    }
   },
   "outputs": [],
   "source": [
    "# Refined decorator to display the time in the unit that’s specified by the user\n",
    "# (either in milliseconds or seconds).\n",
    "\n",
    "def logging_time(unit):\n",
    "    \"\"\"Decorator that logs time.\"\"\"\n",
    "    def logger(func):\n",
    "        @wraps(func)\n",
    "        def inner_logger(*args, **kwargs):\n",
    "            \"\"\"Function that logs time.\"\"\"\n",
    "            start = time.time()\n",
    "            func(*args, **kwargs)\n",
    "            scaling = 1000 if unit == \"ms\" else 1\n",
    "            print(f\"Calling {func.__name__}: {(time.time() - start) * scaling:.5f} {unit}\")\n",
    "\n",
    "        return inner_logger\n",
    "\n",
    "    return logger"
   ]
  },
  {
   "cell_type": "code",
   "execution_count": 18,
   "metadata": {
    "ExecuteTime": {
     "end_time": "2020-10-11T06:23:39.012666Z",
     "start_time": "2020-10-11T06:23:39.006671Z"
    }
   },
   "outputs": [],
   "source": [
    "@logging_time(\"ms\")\n",
    "def calculate_sum_ms(n):\n",
    "    \"\"\"Calculate sum of 0 to n-1\"\"\"\n",
    "    return sum(range(n))\n",
    "\n",
    "@logging_time(\"s\")\n",
    "def calculate_sum_s(n):\n",
    "    \"\"\"Calculate sum of 0 to n-1\"\"\"\n",
    "    return sum(range(n))"
   ]
  },
  {
   "cell_type": "code",
   "execution_count": 19,
   "metadata": {
    "ExecuteTime": {
     "end_time": "2020-10-11T06:23:39.550667Z",
     "start_time": "2020-10-11T06:23:39.015667Z"
    }
   },
   "outputs": [
    {
     "name": "stdout",
     "output_type": "stream",
     "text": [
      "Calling calculate_sum_ms: 528.99837 ms\n"
     ]
    }
   ],
   "source": [
    "calculate_sum_ms(10000000)"
   ]
  },
  {
   "cell_type": "code",
   "execution_count": 20,
   "metadata": {
    "ExecuteTime": {
     "end_time": "2020-10-11T06:23:39.991216Z",
     "start_time": "2020-10-11T06:23:39.553185Z"
    }
   },
   "outputs": [
    {
     "name": "stdout",
     "output_type": "stream",
     "text": [
      "Calling calculate_sum_s: 0.42451 s\n"
     ]
    }
   ],
   "source": [
    "calculate_sum_s(10000000)"
   ]
  },
  {
   "cell_type": "markdown",
   "metadata": {},
   "source": [
    "## Class-based Decorators\n",
    "\n",
    "It is possible to decorate using classes instead of functions. The only difference is the syntax, so do what you are more comfortable with."
   ]
  },
  {
   "cell_type": "code",
   "execution_count": 21,
   "metadata": {
    "ExecuteTime": {
     "end_time": "2020-10-11T06:23:40.008259Z",
     "start_time": "2020-10-11T06:23:39.993736Z"
    }
   },
   "outputs": [],
   "source": [
    "# Example of a logging decorator class\n",
    "\n",
    "class Logging: \n",
    "  \n",
    "    def __init__(self, function): \n",
    "        self.function = function \n",
    "  \n",
    "    def __call__(self, *args, **kwargs):\n",
    "      print(f'Before {self.function.__name__}')\n",
    "      self.function(*args, **kwargs)\n",
    "      print(f'After {self.function.__name__}')"
   ]
  },
  {
   "cell_type": "code",
   "execution_count": 22,
   "metadata": {
    "ExecuteTime": {
     "end_time": "2020-10-11T06:23:40.016256Z",
     "start_time": "2020-10-11T06:23:40.011258Z"
    }
   },
   "outputs": [],
   "source": [
    "@Logging\n",
    "def sum(x, y):\n",
    "  print(x + y)"
   ]
  },
  {
   "cell_type": "code",
   "execution_count": 23,
   "metadata": {
    "ExecuteTime": {
     "end_time": "2020-10-11T06:23:40.029262Z",
     "start_time": "2020-10-11T06:23:40.021260Z"
    }
   },
   "outputs": [
    {
     "name": "stdout",
     "output_type": "stream",
     "text": [
      "Before sum\n",
      "10\n",
      "After sum\n"
     ]
    }
   ],
   "source": [
    "sum(3, 7)"
   ]
  },
  {
   "cell_type": "code",
   "execution_count": 24,
   "metadata": {
    "ExecuteTime": {
     "end_time": "2020-10-11T06:23:40.039268Z",
     "start_time": "2020-10-11T06:23:40.032258Z"
    }
   },
   "outputs": [],
   "source": [
    "# Example of a repeater decorator class (accecpting an argument)\n",
    "\n",
    "class Repeat:\n",
    "    def __init__(self, n):\n",
    "        self.n = n\n",
    "\n",
    "    def __call__(self, func):\n",
    "        def repeater(*args, **kwargs):\n",
    "            for _ in range(self.n):\n",
    "                func(*args, **kwargs)\n",
    "\n",
    "        return repeater\n",
    "    "
   ]
  },
  {
   "cell_type": "code",
   "execution_count": 25,
   "metadata": {
    "ExecuteTime": {
     "end_time": "2020-10-11T06:23:40.053256Z",
     "start_time": "2020-10-11T06:23:40.047261Z"
    }
   },
   "outputs": [],
   "source": [
    "@Repeat(n=2)\n",
    "def morning_greet(person):\n",
    "    print(f\"Good Morning, {person}!\")"
   ]
  },
  {
   "cell_type": "code",
   "execution_count": 26,
   "metadata": {
    "ExecuteTime": {
     "end_time": "2020-10-11T06:23:40.062266Z",
     "start_time": "2020-10-11T06:23:40.057257Z"
    }
   },
   "outputs": [
    {
     "name": "stdout",
     "output_type": "stream",
     "text": [
      "Good Morning, raph!\n",
      "Good Morning, raph!\n"
     ]
    }
   ],
   "source": [
    "morning_greet(\"raph\")"
   ]
  },
  {
   "cell_type": "markdown",
   "metadata": {},
   "source": [
    "---"
   ]
  }
 ],
 "metadata": {
  "hide_input": false,
  "kernelspec": {
   "display_name": "Python 3",
   "language": "python",
   "name": "python3"
  },
  "language_info": {
   "codemirror_mode": {
    "name": "ipython",
    "version": 3
   },
   "file_extension": ".py",
   "mimetype": "text/x-python",
   "name": "python",
   "nbconvert_exporter": "python",
   "pygments_lexer": "ipython3",
   "version": "3.8.3"
  },
  "toc": {
   "base_numbering": 1,
   "nav_menu": {},
   "number_sections": true,
   "sideBar": false,
   "skip_h1_title": true,
   "title_cell": "Decorator Basics",
   "title_sidebar": "Contents",
   "toc_cell": true,
   "toc_position": {},
   "toc_section_display": true,
   "toc_window_display": false
  }
 },
 "nbformat": 4,
 "nbformat_minor": 4
}
